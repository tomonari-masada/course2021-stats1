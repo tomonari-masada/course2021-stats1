{
  "nbformat": 4,
  "nbformat_minor": 0,
  "metadata": {
    "colab": {
      "name": "normal_distribution_ML.ipynb",
      "provenance": [],
      "collapsed_sections": [],
      "authorship_tag": "ABX9TyOaCxDExHhKa0c+fhPOL9Gi",
      "include_colab_link": true
    },
    "kernelspec": {
      "name": "python3",
      "display_name": "Python 3"
    },
    "language_info": {
      "name": "python"
    }
  },
  "cells": [
    {
      "cell_type": "markdown",
      "metadata": {
        "id": "view-in-github",
        "colab_type": "text"
      },
      "source": [
        "<a href=\"https://colab.research.google.com/github/tomonari-masada/course2021-stats1/blob/main/normal_distribution_ML.ipynb\" target=\"_parent\"><img src=\"https://colab.research.google.com/assets/colab-badge.svg\" alt=\"Open In Colab\"/></a>"
      ]
    },
    {
      "cell_type": "markdown",
      "source": [
        "# 単変量正規分布の最尤推定によるirisデータセットの分類\n",
        "* 訓練データを使って、正規分布のパラメータを最尤推定。\n",
        " * 各特徴量は独立に単変量正規分布に従うと仮定。\n",
        "* テストデータについて、コンポーネントごとの対数尤度を計算。\n",
        " * 尤度を最大にするコンポーネントを予測結果として出力。"
      ],
      "metadata": {
        "id": "MfxSmpv74zBl"
      }
    },
    {
      "cell_type": "code",
      "execution_count": null,
      "metadata": {
        "id": "G8ZieHK0sDct"
      },
      "outputs": [],
      "source": [
        "import numpy as np\n",
        "import matplotlib.pyplot as plt\n",
        "\n",
        "%config InlineBackend.figure_formats = {'png', 'retina'}"
      ]
    },
    {
      "cell_type": "code",
      "source": [
        "from sklearn.datasets import load_iris\n",
        "from sklearn.model_selection import train_test_split\n",
        "from sklearn.preprocessing import StandardScaler\n",
        "\n",
        "iris = load_iris()\n",
        "X = iris['data']\n",
        "y = iris['target']\n",
        "target_names = iris['target_names']\n",
        "feature_names = iris['feature_names']\n",
        "\n",
        "X_train, X_test, y_train, y_test = train_test_split(\n",
        "    X, y, test_size=0.2, random_state=123)\n",
        "\n",
        "scaler = StandardScaler()\n",
        "X_train_scaled = scaler.fit_transform(X_train)\n",
        "X_test_scaled = scaler.transform(X_test)"
      ],
      "metadata": {
        "id": "r7KJa7DtsRrb"
      },
      "execution_count": null,
      "outputs": []
    },
    {
      "cell_type": "code",
      "source": [
        "print(list(zip(*(X_train_scaled, y_train))))"
      ],
      "metadata": {
        "id": "3SyXH4LttDhC"
      },
      "execution_count": null,
      "outputs": []
    },
    {
      "cell_type": "code",
      "source": [
        "mu_ML = []\n",
        "sigma_ML = []\n",
        "theta_ML = []\n",
        "for k, target_name in enumerate(target_names):\n",
        "  print(target_name)\n",
        "  indices = y_train == k\n",
        "  mu_ML.append(X_train_scaled[indices].mean(0))\n",
        "  sigma_ML.append(np.sqrt(((X_train_scaled[indices] - mu_ML[-1]) ** 2).mean(0)))\n",
        "  theta_ML.append(indices.sum() / len(indices))\n",
        "mu_ML = np.array(mu_ML)\n",
        "sigma_ML = np.array(sigma_ML)\n",
        "theta_ML = np.array(theta_ML)"
      ],
      "metadata": {
        "id": "NQYzukKRtFFC"
      },
      "execution_count": null,
      "outputs": []
    },
    {
      "cell_type": "code",
      "source": [
        "plt.bar(target_names, theta_ML);"
      ],
      "metadata": {
        "id": "GivfFhBhw0vU"
      },
      "execution_count": null,
      "outputs": []
    },
    {
      "cell_type": "code",
      "source": [
        "mu_ML"
      ],
      "metadata": {
        "id": "jivwgGQb3xC2"
      },
      "execution_count": null,
      "outputs": []
    },
    {
      "cell_type": "code",
      "source": [
        "sigma_ML"
      ],
      "metadata": {
        "id": "8KqkUjRe5ps6"
      },
      "execution_count": null,
      "outputs": []
    },
    {
      "cell_type": "code",
      "source": [
        "from scipy.stats import norm\n",
        "\n",
        "x_axis = np.arange(-400, 401) * 0.01\n",
        "for j, feature_name in enumerate(feature_names):\n",
        "  for k, target_name in enumerate(target_names):\n",
        "    plt.plot(x_axis, norm.pdf(x_axis, loc=mu_ML[k,j], scale=sigma_ML[k,j]), label=target_name)\n",
        "  plt.title(feature_name)\n",
        "  plt.legend()\n",
        "  plt.show()\n",
        "  plt.close()"
      ],
      "metadata": {
        "id": "EewgW88i2mwV"
      },
      "execution_count": null,
      "outputs": []
    },
    {
      "cell_type": "code",
      "source": [
        "accuracy = 0\n",
        "for n, test_instance in enumerate(X_test_scaled):\n",
        "  x = X_test_scaled[n]\n",
        "  likelihood = []\n",
        "  for k, _ in enumerate(target_names):\n",
        "    likelihood.append(np.log(theta_ML[k]) + norm.logpdf(x, loc=mu_ML[k], scale=sigma_ML[k]).sum())\n",
        "  accuracy += np.argmax(np.array(likelihood)) == y_test[n]\n",
        "  print(f'No.{n} prediction={target_names[np.argmax(np.array(likelihood))]} ground truth={target_names[y_test[n]]}')\n",
        "print(f'test accuracy : {accuracy / len(y_test):.3f}')"
      ],
      "metadata": {
        "id": "bTe6QeyHyLiv"
      },
      "execution_count": null,
      "outputs": []
    },
    {
      "cell_type": "code",
      "source": [
        ""
      ],
      "metadata": {
        "id": "PhjKVQIkzcYZ"
      },
      "execution_count": null,
      "outputs": []
    }
  ]
}