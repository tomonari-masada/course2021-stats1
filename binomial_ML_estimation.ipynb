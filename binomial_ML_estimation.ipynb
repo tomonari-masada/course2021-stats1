{
  "nbformat": 4,
  "nbformat_minor": 0,
  "metadata": {
    "colab": {
      "name": "binomial_ML_estimation.ipynb",
      "provenance": [],
      "authorship_tag": "ABX9TyONBTy3eRI4Q2JESx5wjkI9",
      "include_colab_link": true
    },
    "kernelspec": {
      "name": "python3",
      "display_name": "Python 3"
    },
    "language_info": {
      "name": "python"
    }
  },
  "cells": [
    {
      "cell_type": "markdown",
      "metadata": {
        "id": "view-in-github",
        "colab_type": "text"
      },
      "source": [
        "<a href=\"https://colab.research.google.com/github/tomonari-masada/course2021-stats1/blob/main/binomial_ML_estimation.ipynb\" target=\"_parent\"><img src=\"https://colab.research.google.com/assets/colab-badge.svg\" alt=\"Open In Colab\"/></a>"
      ]
    },
    {
      "cell_type": "markdown",
      "metadata": {
        "id": "IRmiFeKLaJ3R"
      },
      "source": [
        "# 二項分布のパラメータの最尤推定をPyTorchで"
      ]
    },
    {
      "cell_type": "markdown",
      "metadata": {
        "id": "4845HHuJaObl"
      },
      "source": [
        "* PyTorchのインポート"
      ]
    },
    {
      "cell_type": "code",
      "metadata": {
        "id": "QBaoLZ3hX0R8"
      },
      "source": [
        "import torch"
      ],
      "execution_count": 1,
      "outputs": []
    },
    {
      "cell_type": "markdown",
      "metadata": {
        "id": "lgtdPY9UaSNn"
      },
      "source": [
        "## 二項分布の作り方を確認"
      ]
    },
    {
      "cell_type": "markdown",
      "metadata": {
        "id": "cY2fo4DHaU7S"
      },
      "source": [
        "* 総試行回数と、パラメータを指定。"
      ]
    },
    {
      "cell_type": "markdown",
      "metadata": {
        "id": "vJxjqlrAamb1"
      },
      "source": [
        "* まずは$\\phi=0$と設定して、100回試行の場合の52という回数の対数尤度を求める。\n",
        " * 尤度はほぼゼロになる。つまり、$\\phi=0$のとき、52回という回数はほぼありえない、ということ。"
      ]
    },
    {
      "cell_type": "code",
      "metadata": {
        "id": "cGmQxWo5X-ku"
      },
      "source": [
        "phi = torch.tensor([0.])\n",
        "m = torch.distributions.binomial.Binomial(100, probs=phi)"
      ],
      "execution_count": 2,
      "outputs": []
    },
    {
      "cell_type": "code",
      "metadata": {
        "colab": {
          "base_uri": "https://localhost:8080/"
        },
        "id": "Q2YKJEtrYF0T",
        "outputId": "e57148e5-2773-414a-91ec-4def7d38d7ed"
      },
      "source": [
        "m.log_prob(torch.tensor([52]))"
      ],
      "execution_count": 3,
      "outputs": [
        {
          "output_type": "execute_result",
          "data": {
            "text/plain": [
              "tensor([-762.2994])"
            ]
          },
          "metadata": {},
          "execution_count": 3
        }
      ]
    },
    {
      "cell_type": "code",
      "metadata": {
        "colab": {
          "base_uri": "https://localhost:8080/"
        },
        "id": "stm_rAtaY_nW",
        "outputId": "8bd568b4-d1d2-4bdd-82e9-abf25911b420"
      },
      "source": [
        "m.log_prob(torch.tensor([52])).exp()"
      ],
      "execution_count": 4,
      "outputs": [
        {
          "output_type": "execute_result",
          "data": {
            "text/plain": [
              "tensor([0.])"
            ]
          },
          "metadata": {},
          "execution_count": 4
        }
      ]
    },
    {
      "cell_type": "markdown",
      "metadata": {
        "id": "bnlDh0eSbHul"
      },
      "source": [
        "* 次に$\\phi=0.5$と設定して、100回試行の場合の52という回数の対数尤度を求める。\n",
        " * 尤度は大きくなる。つまり、$\\phi=0.5$のときなら、52回という回数はかなりありえる、ということ。"
      ]
    },
    {
      "cell_type": "code",
      "metadata": {
        "id": "K0rIwh4vYwsg"
      },
      "source": [
        "phi = torch.tensor([0.5], requires_grad=True)\n",
        "m = torch.distributions.binomial.Binomial(100, probs=phi)"
      ],
      "execution_count": 5,
      "outputs": []
    },
    {
      "cell_type": "code",
      "metadata": {
        "colab": {
          "base_uri": "https://localhost:8080/"
        },
        "id": "er1DQHCcY5o3",
        "outputId": "fe3ce796-c30e-4774-fdb1-6240ec348d46"
      },
      "source": [
        "m.log_prob(torch.tensor([52]))"
      ],
      "execution_count": 6,
      "outputs": [
        {
          "output_type": "execute_result",
          "data": {
            "text/plain": [
              "tensor([-2.6101], grad_fn=<SubBackward0>)"
            ]
          },
          "metadata": {},
          "execution_count": 6
        }
      ]
    },
    {
      "cell_type": "code",
      "metadata": {
        "colab": {
          "base_uri": "https://localhost:8080/"
        },
        "id": "EI9tW-PPY5-_",
        "outputId": "32fe857b-441d-4b4b-915f-9f78d723d2f6"
      },
      "source": [
        "m.log_prob(torch.tensor([52])).exp()"
      ],
      "execution_count": 7,
      "outputs": [
        {
          "output_type": "execute_result",
          "data": {
            "text/plain": [
              "tensor([0.0735], grad_fn=<ExpBackward>)"
            ]
          },
          "metadata": {},
          "execution_count": 7
        }
      ]
    },
    {
      "cell_type": "markdown",
      "metadata": {
        "id": "hDiVqzFwbTP-"
      },
      "source": [
        "## 対数尤度最大化をPyTorchで実装"
      ]
    },
    {
      "cell_type": "markdown",
      "metadata": {
        "id": "s1kNy_kubXsi"
      },
      "source": [
        "* 二項分布のパラメータは、微分可能なテンソルとして作っておく。\n",
        "* そして、そのパラメータを更新するoptimizerを作る。\n",
        " * optimizerは、簡単にSGDにしておく。\n",
        " * 学習率は小さくしておかないと、最適化がうまくいかないかも。"
      ]
    },
    {
      "cell_type": "code",
      "metadata": {
        "id": "6I9KKbMUZDXH"
      },
      "source": [
        "phi = torch.tensor([0.5], requires_grad=True)\n",
        "optimizer = torch.optim.SGD([phi], lr=0.0001)"
      ],
      "execution_count": 8,
      "outputs": []
    },
    {
      "cell_type": "markdown",
      "metadata": {
        "id": "H4vVqHMfbfwz"
      },
      "source": [
        "* 1000回のイテレーションで、negative log likelihoodを最小化する。\n",
        " * PyTorchでは最小化の計算しかできないので、最大化したいときは、マイナスを付けたものを最小化する。"
      ]
    },
    {
      "cell_type": "code",
      "metadata": {
        "colab": {
          "base_uri": "https://localhost:8080/"
        },
        "id": "wXEh_0bVZVLW",
        "outputId": "a3d97c6d-f0d8-49f2-a8e9-88603e399028"
      },
      "source": [
        "for i in range(1000):\n",
        "  optimizer.zero_grad()\n",
        "  m = torch.distributions.binomial.Binomial(100, probs=phi)\n",
        "  loss = - m.log_prob(torch.tensor([52]))\n",
        "  loss.backward()\n",
        "  optimizer.step()\n",
        "  if (i + 1) % 100 == 0:\n",
        "    print(i+1, phi.item())"
      ],
      "execution_count": 9,
      "outputs": [
        {
          "output_type": "stream",
          "name": "stdout",
          "text": [
            "100 0.51966392993927\n",
            "200 0.5199943780899048\n",
            "300 0.5199993252754211\n",
            "400 0.5199993252754211\n",
            "500 0.5199993252754211\n",
            "600 0.5199993252754211\n",
            "700 0.5199993252754211\n",
            "800 0.5199993252754211\n",
            "900 0.5199993252754211\n",
            "1000 0.5199993252754211\n"
          ]
        }
      ]
    },
    {
      "cell_type": "markdown",
      "metadata": {
        "id": "IxMTIU32bvOa"
      },
      "source": [
        "* ちゃんと0.52という答えが出ている！"
      ]
    }
  ]
}