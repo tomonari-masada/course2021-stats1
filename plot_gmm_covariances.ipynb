{
  "cells": [
    {
      "cell_type": "markdown",
      "metadata": {
        "id": "view-in-github",
        "colab_type": "text"
      },
      "source": [
        "<a href=\"https://colab.research.google.com/github/tomonari-masada/course2021-stats1/blob/main/plot_gmm_covariances.ipynb\" target=\"_parent\"><img src=\"https://colab.research.google.com/assets/colab-badge.svg\" alt=\"Open In Colab\"/></a>"
      ]
    },
    {
      "cell_type": "markdown",
      "metadata": {
        "id": "QOxqNgfAVSHB"
      },
      "source": [
        "# 混合正規分布を使ったクラスタリング（scikit-learnの実装例の解説）\n",
        "* https://scikit-learn.org/stable/auto_examples/mixture/plot_gmm_covariances.html"
      ]
    },
    {
      "cell_type": "markdown",
      "source": [
        "* scikit-learnには、混合正規分布モデルが実装されている。\n",
        "* 共分散行列について制約がないモデルも使えるようになっている。\n",
        "* また、異なるクラスタの共分散行列についてどの程度共通性を持たせるかも、設定できる。"
      ],
      "metadata": {
        "id": "mOQph4bkV8cQ"
      }
    },
    {
      "cell_type": "markdown",
      "source": [
        "* 注意：このコードでは、クラスタの重心の初期化に、ラベルの情報を使ってしまっている。\n",
        " * そのため、教師なし学習とは言えない。\n",
        " * 共分散行列についてどんな仮定すると、どんなクラスタリング結果が得られるか、を学ぶためのコード。"
      ],
      "metadata": {
        "id": "0wEu6YKoX8Uz"
      }
    },
    {
      "cell_type": "code",
      "source": [
        "# Author: Ron Weiss <ronweiss@gmail.com>, Gael Varoquaux\n",
        "# Modified by Thierry Guillemot <thierry.guillemot.work@gmail.com>\n",
        "# License: BSD 3 clause\n",
        "\n",
        "import matplotlib as mpl\n",
        "import matplotlib.pyplot as plt\n",
        "\n",
        "import numpy as np\n",
        "\n",
        "from sklearn import datasets\n",
        "from sklearn.mixture import GaussianMixture\n",
        "from sklearn.model_selection import StratifiedKFold\n",
        "\n",
        "%config InlineBackend.figure_formats = {'png', 'retina'}"
      ],
      "metadata": {
        "id": "EFjBxEXOVbjW"
      },
      "execution_count": null,
      "outputs": []
    },
    {
      "cell_type": "markdown",
      "source": [
        "* 共分散行列について、4種類の設定を試している。\n",
        "\n",
        "\n",
        "1. クラスタごとに別々の共分散行列\n",
        "2. 全てのクラスタで同じ共分散行列\n",
        "3. クラスタごとに別々だが対角成分のみ非ゼロの共分散行列\n",
        "4. クラスタごとに別々だが単位行列の定数倍の共分散行列\n",
        "\n"
      ],
      "metadata": {
        "id": "jhGXFHotWhIk"
      }
    },
    {
      "cell_type": "code",
      "source": [
        "colors = [\"navy\", \"turquoise\", \"darkorange\"]\n",
        "\n",
        "def make_ellipses(gmm, ax):\n",
        "  for n, color in enumerate(colors):\n",
        "    if gmm.covariance_type == \"full\":\n",
        "      covariances = gmm.covariances_[n][:2, :2]\n",
        "    elif gmm.covariance_type == \"tied\":\n",
        "      covariances = gmm.covariances_[:2, :2]\n",
        "    elif gmm.covariance_type == \"diag\":\n",
        "      covariances = np.diag(gmm.covariances_[n][:2])\n",
        "    elif gmm.covariance_type == \"spherical\":\n",
        "      covariances = np.eye(gmm.means_.shape[1]) * gmm.covariances_[n]\n",
        "    v, w = np.linalg.eigh(covariances)\n",
        "    u = w[0] / np.linalg.norm(w[0])\n",
        "    angle = np.arctan2(u[1], u[0])\n",
        "    angle = 180 * angle / np.pi  # convert to degrees\n",
        "    v = 2.0 * np.sqrt(2.0) * np.sqrt(v)\n",
        "    ell = mpl.patches.Ellipse(\n",
        "        gmm.means_[n, :2], v[0], v[1], 180 + angle, color=color\n",
        "    )\n",
        "    ell.set_clip_box(ax.bbox)\n",
        "    ell.set_alpha(0.5)\n",
        "    ax.add_artist(ell)\n",
        "    ax.set_aspect(\"equal\", \"datalim\")"
      ],
      "metadata": {
        "id": "FefYlOLPV16R"
      },
      "execution_count": null,
      "outputs": []
    },
    {
      "cell_type": "markdown",
      "source": [
        "* irisデータセットをクラスタリングする。\n",
        " * 25%をテストデータとして確保し、クラスタリングの結果を使って分類する。"
      ],
      "metadata": {
        "id": "YXPawV9hXOaN"
      }
    },
    {
      "cell_type": "code",
      "source": [
        "iris = datasets.load_iris()\n",
        "\n",
        "# Break up the dataset into non-overlapping training (75%) and testing\n",
        "# (25%) sets.\n",
        "skf = StratifiedKFold(n_splits=4)\n",
        "# Only take the first fold.\n",
        "train_index, test_index = next(iter(skf.split(iris.data, iris.target)))\n",
        "\n",
        "\n",
        "X_train = iris.data[train_index]\n",
        "y_train = iris.target[train_index]\n",
        "X_test = iris.data[test_index]\n",
        "y_test = iris.target[test_index]\n",
        "\n",
        "n_classes = len(np.unique(y_train))"
      ],
      "metadata": {
        "id": "YeTzLHOJXRla"
      },
      "execution_count": null,
      "outputs": []
    },
    {
      "cell_type": "markdown",
      "source": [
        "* 4種類のモデルを辞書に保存しておく。"
      ],
      "metadata": {
        "id": "qROTGi2rXZB7"
      }
    },
    {
      "cell_type": "code",
      "source": [
        "# Try GMMs using different types of covariances.\n",
        "estimators = {\n",
        "    cov_type: GaussianMixture(\n",
        "        n_components=n_classes, covariance_type=cov_type, max_iter=20, random_state=0\n",
        "    )\n",
        "    for cov_type in [\"spherical\", \"diag\", \"tied\", \"full\"]\n",
        "}\n",
        "\n",
        "n_estimators = len(estimators)"
      ],
      "metadata": {
        "id": "MAdXjd3TXcFj"
      },
      "execution_count": null,
      "outputs": []
    },
    {
      "cell_type": "markdown",
      "source": [
        "* クラスタリングの結果を描画する。\n",
        " * 各クラスタの正規分布の密度関数の等高線を比べてみよう。"
      ],
      "metadata": {
        "id": "4UdXU9j1XjRj"
      }
    },
    {
      "cell_type": "code",
      "execution_count": null,
      "metadata": {
        "id": "pmzw4UnxVSHD"
      },
      "outputs": [],
      "source": [
        "plt.figure(figsize=(3 * n_estimators // 2, 6))\n",
        "plt.subplots_adjust(\n",
        "    bottom=0.01, top=0.95, hspace=0.15, wspace=0.05, left=0.01, right=0.99\n",
        ")\n",
        "\n",
        "\n",
        "for index, (name, estimator) in enumerate(estimators.items()):\n",
        "  # 重心ベクトルは、正解のラベルを使って初期化している。\n",
        "  estimator.means_init = np.array(\n",
        "      [X_train[y_train == i].mean(axis=0) for i in range(n_classes)]\n",
        "  )\n",
        "  \n",
        "  # 他のパラメータは、EMアルゴリズムで推定する。\n",
        "  estimator.fit(X_train)\n",
        "\n",
        "  h = plt.subplot(2, n_estimators // 2, index + 1)\n",
        "  make_ellipses(estimator, h)\n",
        "\n",
        "  for n, color in enumerate(colors):\n",
        "    data = iris.data[iris.target == n]\n",
        "    plt.scatter(\n",
        "        data[:, 0], data[:, 1], s=0.8, color=color, label=iris.target_names[n]\n",
        "    )\n",
        "  \n",
        "  # Plot the test data with crosses\n",
        "  for n, color in enumerate(colors):\n",
        "    data = X_test[y_test == n]\n",
        "    plt.scatter(data[:, 0], data[:, 1], marker=\"x\", color=color)\n",
        "\n",
        "  y_train_pred = estimator.predict(X_train)\n",
        "  train_accuracy = np.mean(y_train_pred.ravel() == y_train.ravel()) * 100\n",
        "  plt.text(0.05, 0.9, \"Train accuracy: %.1f\" % train_accuracy, transform=h.transAxes)\n",
        "\n",
        "  y_test_pred = estimator.predict(X_test)\n",
        "  test_accuracy = np.mean(y_test_pred.ravel() == y_test.ravel()) * 100\n",
        "  plt.text(0.05, 0.8, \"Test accuracy: %.1f\" % test_accuracy, transform=h.transAxes)\n",
        "\n",
        "  plt.xticks(())\n",
        "  plt.yticks(())\n",
        "  plt.title(name)\n",
        "\n",
        "plt.legend(scatterpoints=1, loc=\"lower right\", prop=dict(size=12))\n",
        "\n",
        "\n",
        "plt.show()"
      ]
    },
    {
      "cell_type": "markdown",
      "source": [
        "## 問題\n",
        "* 初期化に正解ラベルを使わずにクラスタリングを実行してみよう。\n",
        "* その場合、クラスタリングの良し悪しを、テストデータを使ってどのように評価すればよいだろうか。"
      ],
      "metadata": {
        "id": "UqEAddKeZ1H_"
      }
    },
    {
      "cell_type": "code",
      "source": [
        ""
      ],
      "metadata": {
        "id": "oy6ZyueEYeb1"
      },
      "execution_count": null,
      "outputs": []
    }
  ],
  "metadata": {
    "kernelspec": {
      "display_name": "Python 3",
      "language": "python",
      "name": "python3"
    },
    "language_info": {
      "codemirror_mode": {
        "name": "ipython",
        "version": 3
      },
      "file_extension": ".py",
      "mimetype": "text/x-python",
      "name": "python",
      "nbconvert_exporter": "python",
      "pygments_lexer": "ipython3",
      "version": "3.9.9"
    },
    "colab": {
      "name": "plot_gmm_covariances.ipynb",
      "provenance": [],
      "collapsed_sections": [],
      "include_colab_link": true
    }
  },
  "nbformat": 4,
  "nbformat_minor": 0
}