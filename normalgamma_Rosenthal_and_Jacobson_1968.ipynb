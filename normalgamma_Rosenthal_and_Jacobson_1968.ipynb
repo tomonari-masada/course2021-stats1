{
  "nbformat": 4,
  "nbformat_minor": 0,
  "metadata": {
    "colab": {
      "name": "normalgamma_Rosenthal_and_Jacobson_1968.ipynb",
      "provenance": [],
      "collapsed_sections": [],
      "authorship_tag": "ABX9TyNS9zbA0iDdYx7sLLO8UFQM",
      "include_colab_link": true
    },
    "kernelspec": {
      "name": "python3",
      "display_name": "Python 3"
    },
    "language_info": {
      "name": "python"
    }
  },
  "cells": [
    {
      "cell_type": "markdown",
      "metadata": {
        "id": "view-in-github",
        "colab_type": "text"
      },
      "source": [
        "<a href=\"https://colab.research.google.com/github/tomonari-masada/course2021-stats1/blob/main/normalgamma_Rosenthal_and_Jacobson_1968.ipynb\" target=\"_parent\"><img src=\"https://colab.research.google.com/assets/colab-badge.svg\" alt=\"Open In Colab\"/></a>"
      ]
    },
    {
      "cell_type": "markdown",
      "source": [
        "# Rosenthal and Jacobson (1968) の実験の結果を分析\n",
        "\n",
        "* データは、原論文のものではなく、それに似せて作ったもの。\n",
        " * [STA 360/602: Bayesian Methods and Modern Statistics @ Duke University](http://www2.stat.duke.edu/~rcs46/bayes17.html)の[Module 4](http://www2.stat.duke.edu/~rcs46/modern_bayes17/lecturesModernBayes17/lecture-4/04-normal-gamma.pdf)より拝借したデータ。\n"
      ],
      "metadata": {
        "id": "X3VSVstvWLQk"
      }
    },
    {
      "cell_type": "markdown",
      "source": [
        "> Do a teacher’s expectations influence student achievement? In a\n",
        "famous study, Rosenthal and Jacobson (1968) performed an\n",
        "experiment in a California elementary school to try to answer this\n",
        "question. At the beginning of the year, all students were given an\n",
        "IQ test. For each class, the researchers randomly selected around\n",
        "20% of the students, and told the teacher that these students were\n",
        "“spurters” that could be expected to perform particularly well that\n",
        "year. (This was not based on the test—the spurters were randomly\n",
        "chosen.) At the end of the year, all students were given another IQ\n",
        "test.\n",
        "\n"
      ],
      "metadata": {
        "id": "ldPEtjTyxLLq"
      }
    },
    {
      "cell_type": "markdown",
      "source": [
        "## 問題設定\n",
        "* 教師が期待をかけるか否かで学生の学修に影響があるかを知りたい。\n",
        "* このことを、$P(\\mu_s > \\mu_c | \\mathbf{x}_s, \\mathbf{x}_c)$を調べることで、明らかにする。\n",
        " * $\\mathbf{x}_s$: spurters（期待をかけられた学生たち）のIQ変化量データ群\n",
        " * $\\mathbf{x}_c$: controls（その他の学生たち）のIQ変化量データ群\n",
        " * $\\mu_s$: spurtersのIQ変化量の平均値\n",
        " * $\\mu_c$: controlsのIQ変化量の平均値"
      ],
      "metadata": {
        "id": "GpcYodYT9cXc"
      }
    },
    {
      "cell_type": "code",
      "execution_count": 118,
      "metadata": {
        "id": "IDZc6xpwVxZ8"
      },
      "outputs": [],
      "source": [
        "import matplotlib.pyplot as plt\n",
        "import seaborn as sns\n",
        "import numpy as np\n",
        "\n",
        "%config InlineBackend.figure_format = 'retina'"
      ]
    },
    {
      "cell_type": "markdown",
      "source": [
        "## モデリングの方針\n",
        "* IQスコア変化量は、正規分布に従うと仮定する。\n",
        "* spurtersとcontrolsそれぞれに、別々の事前分布を導入する。\n",
        "* 事前分布としては、正規ガンマ分布を用いる。"
      ],
      "metadata": {
        "id": "1IkQTIKeAfQG"
      }
    },
    {
      "cell_type": "markdown",
      "source": [
        "## データ\n",
        "* spurtersとcontrolsのIQスコアの変化量"
      ],
      "metadata": {
        "id": "FwTQWr0cw5Rx"
      }
    },
    {
      "cell_type": "code",
      "source": [
        "x_s = [18, 40, 15, 17, 20, 44, 38]\n",
        "x_c = [-4, 0, -19, 24, 19, 10, 5, 10,\n",
        "       29, 13, -9, -8, 20, -1, 12, 21,\n",
        "       -7, 14, 13, 20, 11, 16, 15, 27,\n",
        "       23, 36, -33, 34, 13, 11, -19, 21,\n",
        "       6, 25, 30,22, -28, 15, 26, -1, -2,\n",
        "       43, 23, 22, 25, 16, 10, 29]"
      ],
      "metadata": {
        "id": "vr5Mbxe_Vyyb"
      },
      "execution_count": 119,
      "outputs": []
    },
    {
      "cell_type": "code",
      "source": [
        "x_s = np.array(x_s)\n",
        "x_c = np.array(x_c)\n",
        "N_s = len(x_s)\n",
        "N_c = len(x_c)"
      ],
      "metadata": {
        "id": "XWgHm5uK0y6o"
      },
      "execution_count": 120,
      "outputs": []
    },
    {
      "cell_type": "markdown",
      "source": [
        "## 事前分布のパラメータの設定"
      ],
      "metadata": {
        "id": "SSihbrFjx28G"
      }
    },
    {
      "cell_type": "markdown",
      "source": [
        "* $\\alpha$は、事前分布がデータ1個分の情報を持つように設定されている。\n",
        " * 事後分布のshapeパラメータが$\\alpha + N / 2$となるため。\n",
        "* $\\beta$は、IQスコアの変化量の標準偏差$\\sqrt{\\beta / \\alpha}$が10ぐらいになるように設定されている。\n",
        " * ガンマ分布$\\mbox{Gamma}(\\alpha, \\beta)$に従う確率変数の値の平均は$\\alpha / \\beta$。\n",
        " * ガンマ分布は、ここでは、IQスコアの変化量が従う正規分布の精度（＝分散の逆数）が従う分布として使われている。"
      ],
      "metadata": {
        "id": "NRNIObzoy0hL"
      }
    },
    {
      "cell_type": "code",
      "source": [
        "alpha = 0.5\n",
        "beta = 100 * alpha"
      ],
      "metadata": {
        "id": "q3v1ogPBX3LB"
      },
      "execution_count": 121,
      "outputs": []
    },
    {
      "cell_type": "markdown",
      "source": [
        "* $\\lambda_0$は、どう設定していいか分からないので$1$にする。\n",
        "* $\\mu_0$は、spurtersとcontrolsを合わせたデータ全体の平均値に設定する。"
      ],
      "metadata": {
        "id": "KyJ67MYd-tds"
      }
    },
    {
      "cell_type": "code",
      "source": [
        "lambda_0 = 1.0\n",
        "mu_s_0 = (x_s.sum() + x_c.sum()) / (N_s + N_c)\n",
        "mu_c_0 = mu_s_0\n",
        "print(f'spurters mean {mu_s_0:.3f}\\ncontrols mean {mu_c_0:.3f}')"
      ],
      "metadata": {
        "colab": {
          "base_uri": "https://localhost:8080/"
        },
        "id": "kzOt7CirXJqd",
        "outputId": "47a8e250-f3f9-439b-d4a3-b80f43901b78"
      },
      "execution_count": 122,
      "outputs": [
        {
          "output_type": "stream",
          "name": "stdout",
          "text": [
            "spurters mean 14.000\n",
            "controls mean 14.000\n"
          ]
        }
      ]
    },
    {
      "cell_type": "markdown",
      "source": [
        "## 事後分布のパラメータの計算\n",
        "* データ集合が与えられれば、この計算は実行できる。"
      ],
      "metadata": {
        "id": "dtC4MTlyzekg"
      }
    },
    {
      "cell_type": "code",
      "source": [
        "mu_s = (lambda_0 * mu_s_0 + sum(x_s)) / (lambda_0 + N_s)\n",
        "mu_c = (lambda_0 * mu_c_0 + sum(x_c)) / (lambda_0 + N_c)\n",
        "lambda_s = lambda_0 + N_s\n",
        "lambda_c = lambda_0 + N_c\n",
        "alpha_s = alpha + N_s / 2\n",
        "alpha_c = alpha + N_c / 2\n",
        "beta_s = beta + (((x_s - x_s.mean()) ** 2).sum() + lambda_0 * N_s * (x_s.mean() - mu_s_0) ** 2 / (lambda_0 + N_s)) / 2\n",
        "beta_c = beta + (((x_c - x_c.mean()) ** 2).sum() + lambda_0 * N_c * (x_c.mean() - mu_c_0) ** 2 / (lambda_0 + N_c)) / 2"
      ],
      "metadata": {
        "id": "3vpbw_H0zeB5"
      },
      "execution_count": 123,
      "outputs": []
    },
    {
      "cell_type": "markdown",
      "source": [
        "## 事後分布からサンプリング\n",
        "* 正規ガンマ分布$\\mu, \\tau \\sim \\mbox{NormalGamma}(\\mu_0, \\lambda_0, \\alpha, \\beta)$からサンプリングするには・・・\n",
        "* まず、ガンマ分布$\\tau \\sim \\mbox{Gamma}(\\alpha, \\beta)$から$\\tau$をサンプリングし、\n",
        "* 次に、正規分布$\\mu \\sim \\mathcal{N}(\\mu_0, 1 / (\\lambda_0\\tau))$から$\\mu$をサンプリングすればよい。"
      ],
      "metadata": {
        "id": "QmbLGt-O3c5y"
      }
    },
    {
      "cell_type": "code",
      "source": [
        "from scipy.stats import gamma\n",
        "from numpy.random import randn"
      ],
      "metadata": {
        "id": "Uru3xMzH3qRU"
      },
      "execution_count": 124,
      "outputs": []
    },
    {
      "cell_type": "code",
      "source": [
        "rv_s = gamma(alpha_s, scale=1/beta_s)\n",
        "rv_c = gamma(alpha_c, scale=1/beta_c)"
      ],
      "metadata": {
        "id": "tod2MN3D42gN"
      },
      "execution_count": 125,
      "outputs": []
    },
    {
      "cell_type": "code",
      "source": [
        "n_samples = 1000\n",
        "\n",
        "tau_s_samples = rv_s.rvs(n_samples)\n",
        "mean_s_samples = randn(n_samples) / np.sqrt(lambda_s * tau_s_samples) + mu_s\n",
        "tau_c_samples = rv_c.rvs(n_samples)\n",
        "mean_c_samples = randn(n_samples) / np.sqrt(lambda_c * tau_c_samples) + mu_c"
      ],
      "metadata": {
        "id": "uWcKeS4k5kG6"
      },
      "execution_count": 126,
      "outputs": []
    },
    {
      "cell_type": "code",
      "source": [
        "import pandas as pd\n",
        "df = pd.DataFrame.from_dict({'spurters':mean_s_samples, 'controls':mean_c_samples})\n",
        "sns.histplot(df)"
      ],
      "metadata": {
        "colab": {
          "base_uri": "https://localhost:8080/",
          "height": 283
        },
        "id": "FTryalqZ75PX",
        "outputId": "d449b10e-e1c1-4809-bd62-81401393a978"
      },
      "execution_count": 127,
      "outputs": [
        {
          "output_type": "execute_result",
          "data": {
            "text/plain": [
              "<matplotlib.axes._subplots.AxesSubplot at 0x7f3df2f3c350>"
            ]
          },
          "metadata": {},
          "execution_count": 127
        },
        {
          "output_type": "display_data",
          "data": {
            "image/png": "[encoded data removed]",
            "text/plain": [
              "<Figure size 432x288 with 1 Axes>"
            ]
          },
          "metadata": {
            "image/png": {
              "width": 388,
              "height": 248
            },
            "needs_background": "light"
          }
        }
      ]
    },
    {
      "cell_type": "markdown",
      "source": [
        "## $\\mu_s > \\mu_c$となる確率の計算"
      ],
      "metadata": {
        "id": "4Fzu7bgh_DXF"
      }
    },
    {
      "cell_type": "code",
      "source": [
        "(mu_s_samples > mu_c_samples).sum() / n_samples"
      ],
      "metadata": {
        "colab": {
          "base_uri": "https://localhost:8080/"
        },
        "id": "UNF_MmhV8Vok",
        "outputId": "f3d1bb18-d07f-4519-ec95-be5a13298683"
      },
      "execution_count": 128,
      "outputs": [
        {
          "output_type": "execute_result",
          "data": {
            "text/plain": [
              "0.997"
            ]
          },
          "metadata": {},
          "execution_count": 128
        }
      ]
    },
    {
      "cell_type": "code",
      "source": [
        ""
      ],
      "metadata": {
        "id": "rPNIZpt088yN"
      },
      "execution_count": 128,
      "outputs": []
    }
  ]
}