{
  "nbformat": 4,
  "nbformat_minor": 0,
  "metadata": {
    "colab": {
      "name": "minibatch_PLSI.ipynb",
      "provenance": [],
      "collapsed_sections": [],
      "authorship_tag": "ABX9TyOl9yp/y00VLCgS0eCDDJHv",
      "include_colab_link": true
    },
    "kernelspec": {
      "name": "python3",
      "display_name": "Python 3"
    },
    "language_info": {
      "name": "python"
    },
    "accelerator": "GPU"
  },
  "cells": [
    {
      "cell_type": "markdown",
      "metadata": {
        "id": "view-in-github",
        "colab_type": "text"
      },
      "source": [
        "<a href=\"https://colab.research.google.com/github/tomonari-masada/course2021-stats1/blob/main/minibatch_PLSI.ipynb\" target=\"_parent\"><img src=\"https://colab.research.google.com/assets/colab-badge.svg\" alt=\"Open In Colab\"/></a>"
      ]
    },
    {
      "cell_type": "markdown",
      "source": [
        "# PLSIのミニバッチ学習"
      ],
      "metadata": {
        "id": "_B2H9m_9kHFd"
      }
    },
    {
      "cell_type": "markdown",
      "source": [
        "## MeCabのインストール"
      ],
      "metadata": {
        "id": "5fRAsKwXW3m2"
      }
    },
    {
      "cell_type": "code",
      "execution_count": null,
      "metadata": {
        "colab": {
          "base_uri": "https://localhost:8080/"
        },
        "id": "cN4WVrEgTDWk",
        "outputId": "c1b75183-df37-47a9-eba9-2d1cef9aa0a7"
      },
      "outputs": [
        {
          "output_type": "stream",
          "name": "stdout",
          "text": [
            "Reading package lists... Done\n",
            "Building dependency tree       \n",
            "Reading state information... Done\n",
            "The following additional packages will be installed:\n",
            "  aptitude-common libcgi-fast-perl libcgi-pm-perl libclass-accessor-perl\n",
            "  libcwidget3v5 libencode-locale-perl libfcgi-perl libhtml-parser-perl\n",
            "  libhtml-tagset-perl libhttp-date-perl libhttp-message-perl libio-html-perl\n",
            "  libio-string-perl liblwp-mediatypes-perl libparse-debianchangelog-perl\n",
            "  libsigc++-2.0-0v5 libsub-name-perl libtimedate-perl liburi-perl libxapian30\n",
            "  swig3.0\n",
            "Suggested packages:\n",
            "  aptitude-doc-en | aptitude-doc apt-xapian-index debtags tasksel\n",
            "  libcwidget-dev libdata-dump-perl libhtml-template-perl libxml-simple-perl\n",
            "  libwww-perl xapian-tools swig-doc swig-examples swig3.0-examples swig3.0-doc\n",
            "The following NEW packages will be installed:\n",
            "  aptitude aptitude-common libcgi-fast-perl libcgi-pm-perl\n",
            "  libclass-accessor-perl libcwidget3v5 libencode-locale-perl libfcgi-perl\n",
            "  libhtml-parser-perl libhtml-tagset-perl libhttp-date-perl\n",
            "  libhttp-message-perl libio-html-perl libio-string-perl\n",
            "  liblwp-mediatypes-perl libparse-debianchangelog-perl libsigc++-2.0-0v5\n",
            "  libsub-name-perl libtimedate-perl liburi-perl libxapian30 swig swig3.0\n",
            "0 upgraded, 23 newly installed, 0 to remove and 37 not upgraded.\n",
            "Need to get 4,978 kB of archives.\n",
            "After this operation, 21.4 MB of additional disk space will be used.\n",
            "Get:1 http://archive.ubuntu.com/ubuntu bionic/main amd64 aptitude-common all 0.8.10-6ubuntu1 [1,014 kB]\n",
            "Get:2 http://archive.ubuntu.com/ubuntu bionic/main amd64 libsigc++-2.0-0v5 amd64 2.10.0-2 [10.9 kB]\n",
            "Get:3 http://archive.ubuntu.com/ubuntu bionic/main amd64 libcwidget3v5 amd64 0.5.17-7 [286 kB]\n",
            "Get:4 http://archive.ubuntu.com/ubuntu bionic-updates/main amd64 libxapian30 amd64 1.4.5-1ubuntu0.1 [631 kB]\n",
            "Get:5 http://archive.ubuntu.com/ubuntu bionic/main amd64 aptitude amd64 0.8.10-6ubuntu1 [1,269 kB]\n",
            "Get:6 http://archive.ubuntu.com/ubuntu bionic/main amd64 libhtml-tagset-perl all 3.20-3 [12.1 kB]\n",
            "Get:7 http://archive.ubuntu.com/ubuntu bionic/main amd64 liburi-perl all 1.73-1 [77.2 kB]\n",
            "Get:8 http://archive.ubuntu.com/ubuntu bionic/main amd64 libhtml-parser-perl amd64 3.72-3build1 [85.9 kB]\n",
            "Get:9 http://archive.ubuntu.com/ubuntu bionic/main amd64 libcgi-pm-perl all 4.38-1 [185 kB]\n",
            "Get:10 http://archive.ubuntu.com/ubuntu bionic/main amd64 libfcgi-perl amd64 0.78-2build1 [32.8 kB]\n",
            "Get:11 http://archive.ubuntu.com/ubuntu bionic/main amd64 libcgi-fast-perl all 1:2.13-1 [9,940 B]\n",
            "Get:12 http://archive.ubuntu.com/ubuntu bionic/main amd64 libsub-name-perl amd64 0.21-1build1 [11.6 kB]\n",
            "Get:13 http://archive.ubuntu.com/ubuntu bionic/main amd64 libclass-accessor-perl all 0.51-1 [21.2 kB]\n",
            "Get:14 http://archive.ubuntu.com/ubuntu bionic/main amd64 libencode-locale-perl all 1.05-1 [12.3 kB]\n",
            "Get:15 http://archive.ubuntu.com/ubuntu bionic/main amd64 libtimedate-perl all 2.3000-2 [37.5 kB]\n",
            "Get:16 http://archive.ubuntu.com/ubuntu bionic/main amd64 libhttp-date-perl all 6.02-1 [10.4 kB]\n",
            "Get:17 http://archive.ubuntu.com/ubuntu bionic/main amd64 libio-html-perl all 1.001-1 [14.9 kB]\n",
            "Get:18 http://archive.ubuntu.com/ubuntu bionic/main amd64 liblwp-mediatypes-perl all 6.02-1 [21.7 kB]\n",
            "Get:19 http://archive.ubuntu.com/ubuntu bionic/main amd64 libhttp-message-perl all 6.14-1 [72.1 kB]\n",
            "Get:20 http://archive.ubuntu.com/ubuntu bionic/main amd64 libio-string-perl all 1.08-3 [11.1 kB]\n",
            "Get:21 http://archive.ubuntu.com/ubuntu bionic/main amd64 libparse-debianchangelog-perl all 1.2.0-12 [49.5 kB]\n",
            "Get:22 http://archive.ubuntu.com/ubuntu bionic/universe amd64 swig3.0 amd64 3.0.12-1 [1,094 kB]\n",
            "Get:23 http://archive.ubuntu.com/ubuntu bionic/universe amd64 swig amd64 3.0.12-1 [6,460 B]\n",
            "Fetched 4,978 kB in 2s (3,155 kB/s)\n",
            "Selecting previously unselected package aptitude-common.\n",
            "(Reading database ... 155225 files and directories currently installed.)\n",
            "Preparing to unpack .../00-aptitude-common_0.8.10-6ubuntu1_all.deb ...\n",
            "Unpacking aptitude-common (0.8.10-6ubuntu1) ...\n",
            "Selecting previously unselected package libsigc++-2.0-0v5:amd64.\n",
            "Preparing to unpack .../01-libsigc++-2.0-0v5_2.10.0-2_amd64.deb ...\n",
            "Unpacking libsigc++-2.0-0v5:amd64 (2.10.0-2) ...\n",
            "Selecting previously unselected package libcwidget3v5:amd64.\n",
            "Preparing to unpack .../02-libcwidget3v5_0.5.17-7_amd64.deb ...\n",
            "Unpacking libcwidget3v5:amd64 (0.5.17-7) ...\n",
            "Selecting previously unselected package libxapian30:amd64.\n",
            "Preparing to unpack .../03-libxapian30_1.4.5-1ubuntu0.1_amd64.deb ...\n",
            "Unpacking libxapian30:amd64 (1.4.5-1ubuntu0.1) ...\n",
            "Selecting previously unselected package aptitude.\n",
            "Preparing to unpack .../04-aptitude_0.8.10-6ubuntu1_amd64.deb ...\n",
            "Unpacking aptitude (0.8.10-6ubuntu1) ...\n",
            "Selecting previously unselected package libhtml-tagset-perl.\n",
            "Preparing to unpack .../05-libhtml-tagset-perl_3.20-3_all.deb ...\n",
            "Unpacking libhtml-tagset-perl (3.20-3) ...\n",
            "Selecting previously unselected package liburi-perl.\n",
            "Preparing to unpack .../06-liburi-perl_1.73-1_all.deb ...\n",
            "Unpacking liburi-perl (1.73-1) ...\n",
            "Selecting previously unselected package libhtml-parser-perl.\n",
            "Preparing to unpack .../07-libhtml-parser-perl_3.72-3build1_amd64.deb ...\n",
            "Unpacking libhtml-parser-perl (3.72-3build1) ...\n",
            "Selecting previously unselected package libcgi-pm-perl.\n",
            "Preparing to unpack .../08-libcgi-pm-perl_4.38-1_all.deb ...\n",
            "Unpacking libcgi-pm-perl (4.38-1) ...\n",
            "Selecting previously unselected package libfcgi-perl.\n",
            "Preparing to unpack .../09-libfcgi-perl_0.78-2build1_amd64.deb ...\n",
            "Unpacking libfcgi-perl (0.78-2build1) ...\n",
            "Selecting previously unselected package libcgi-fast-perl.\n",
            "Preparing to unpack .../10-libcgi-fast-perl_1%3a2.13-1_all.deb ...\n",
            "Unpacking libcgi-fast-perl (1:2.13-1) ...\n",
            "Selecting previously unselected package libsub-name-perl.\n",
            "Preparing to unpack .../11-libsub-name-perl_0.21-1build1_amd64.deb ...\n",
            "Unpacking libsub-name-perl (0.21-1build1) ...\n",
            "Selecting previously unselected package libclass-accessor-perl.\n",
            "Preparing to unpack .../12-libclass-accessor-perl_0.51-1_all.deb ...\n",
            "Unpacking libclass-accessor-perl (0.51-1) ...\n",
            "Selecting previously unselected package libencode-locale-perl.\n",
            "Preparing to unpack .../13-libencode-locale-perl_1.05-1_all.deb ...\n",
            "Unpacking libencode-locale-perl (1.05-1) ...\n",
            "Selecting previously unselected package libtimedate-perl.\n",
            "Preparing to unpack .../14-libtimedate-perl_2.3000-2_all.deb ...\n",
            "Unpacking libtimedate-perl (2.3000-2) ...\n",
            "Selecting previously unselected package libhttp-date-perl.\n",
            "Preparing to unpack .../15-libhttp-date-perl_6.02-1_all.deb ...\n",
            "Unpacking libhttp-date-perl (6.02-1) ...\n",
            "Selecting previously unselected package libio-html-perl.\n",
            "Preparing to unpack .../16-libio-html-perl_1.001-1_all.deb ...\n",
            "Unpacking libio-html-perl (1.001-1) ...\n",
            "Selecting previously unselected package liblwp-mediatypes-perl.\n",
            "Preparing to unpack .../17-liblwp-mediatypes-perl_6.02-1_all.deb ...\n",
            "Unpacking liblwp-mediatypes-perl (6.02-1) ...\n",
            "Selecting previously unselected package libhttp-message-perl.\n",
            "Preparing to unpack .../18-libhttp-message-perl_6.14-1_all.deb ...\n",
            "Unpacking libhttp-message-perl (6.14-1) ...\n",
            "Selecting previously unselected package libio-string-perl.\n",
            "Preparing to unpack .../19-libio-string-perl_1.08-3_all.deb ...\n",
            "Unpacking libio-string-perl (1.08-3) ...\n",
            "Selecting previously unselected package libparse-debianchangelog-perl.\n",
            "Preparing to unpack .../20-libparse-debianchangelog-perl_1.2.0-12_all.deb ...\n",
            "Unpacking libparse-debianchangelog-perl (1.2.0-12) ...\n",
            "Selecting previously unselected package swig3.0.\n",
            "Preparing to unpack .../21-swig3.0_3.0.12-1_amd64.deb ...\n",
            "Unpacking swig3.0 (3.0.12-1) ...\n",
            "Selecting previously unselected package swig.\n",
            "Preparing to unpack .../22-swig_3.0.12-1_amd64.deb ...\n",
            "Unpacking swig (3.0.12-1) ...\n",
            "Setting up libhtml-tagset-perl (3.20-3) ...\n",
            "Setting up libxapian30:amd64 (1.4.5-1ubuntu0.1) ...\n",
            "Setting up swig3.0 (3.0.12-1) ...\n",
            "Setting up libencode-locale-perl (1.05-1) ...\n",
            "Setting up libtimedate-perl (2.3000-2) ...\n",
            "Setting up libio-html-perl (1.001-1) ...\n",
            "Setting up aptitude-common (0.8.10-6ubuntu1) ...\n",
            "Setting up liblwp-mediatypes-perl (6.02-1) ...\n",
            "Setting up liburi-perl (1.73-1) ...\n",
            "Setting up libhtml-parser-perl (3.72-3build1) ...\n",
            "Setting up libcgi-pm-perl (4.38-1) ...\n",
            "Setting up libio-string-perl (1.08-3) ...\n",
            "Setting up libsub-name-perl (0.21-1build1) ...\n",
            "Setting up libfcgi-perl (0.78-2build1) ...\n",
            "Setting up libsigc++-2.0-0v5:amd64 (2.10.0-2) ...\n",
            "Setting up libclass-accessor-perl (0.51-1) ...\n",
            "Setting up swig (3.0.12-1) ...\n",
            "Setting up libhttp-date-perl (6.02-1) ...\n",
            "Setting up libcgi-fast-perl (1:2.13-1) ...\n",
            "Setting up libparse-debianchangelog-perl (1.2.0-12) ...\n",
            "Setting up libhttp-message-perl (6.14-1) ...\n",
            "Setting up libcwidget3v5:amd64 (0.5.17-7) ...\n",
            "Setting up aptitude (0.8.10-6ubuntu1) ...\n",
            "update-alternatives: using /usr/bin/aptitude-curses to provide /usr/bin/aptitude (aptitude) in auto mode\n",
            "Processing triggers for man-db (2.8.3-2ubuntu0.1) ...\n",
            "Processing triggers for libc-bin (2.27-3ubuntu1.3) ...\n",
            "/sbin/ldconfig.real: /usr/local/lib/python3.7/dist-packages/ideep4py/lib/libmkldnn.so.0 is not a symbolic link\n",
            "\n",
            "git is already installed at the requested version (1:2.17.1-1ubuntu0.9)\n",
            "make is already installed at the requested version (4.1-9.1ubuntu1)\n",
            "curl is already installed at the requested version (7.58.0-2ubuntu3.16)\n",
            "xz-utils is already installed at the requested version (5.2.2-1.3)\n",
            "git is already installed at the requested version (1:2.17.1-1ubuntu0.9)\n",
            "make is already installed at the requested version (4.1-9.1ubuntu1)\n",
            "curl is already installed at the requested version (7.58.0-2ubuntu3.16)\n",
            "xz-utils is already installed at the requested version (5.2.2-1.3)\n",
            "The following NEW packages will be installed:\n",
            "  file libmagic-mgc{a} libmagic1{a} libmecab-dev libmecab2{a} mecab mecab-ipadic{a} mecab-ipadic-utf8 mecab-jumandic{a} mecab-jumandic-utf8{a} mecab-utils{a} \n",
            "0 packages upgraded, 11 newly installed, 0 to remove and 37 not upgraded.\n",
            "Need to get 29.3 MB of archives. After unpacking 282 MB will be used.\n",
            "Get: 1 http://archive.ubuntu.com/ubuntu bionic-updates/main amd64 libmagic-mgc amd64 1:5.32-2ubuntu0.4 [184 kB]\n",
            "Get: 2 http://archive.ubuntu.com/ubuntu bionic-updates/main amd64 libmagic1 amd64 1:5.32-2ubuntu0.4 [68.6 kB]\n",
            "Get: 3 http://archive.ubuntu.com/ubuntu bionic-updates/main amd64 file amd64 1:5.32-2ubuntu0.4 [22.1 kB]\n",
            "Get: 4 http://archive.ubuntu.com/ubuntu bionic/universe amd64 libmecab2 amd64 0.996-5 [257 kB]\n",
            "Get: 5 http://archive.ubuntu.com/ubuntu bionic/universe amd64 libmecab-dev amd64 0.996-5 [308 kB]\n",
            "Get: 6 http://archive.ubuntu.com/ubuntu bionic/universe amd64 mecab-utils amd64 0.996-5 [4,856 B]\n",
            "Get: 7 http://archive.ubuntu.com/ubuntu bionic/universe amd64 mecab-jumandic-utf8 all 7.0-20130310-4 [16.2 MB]\n",
            "Get: 8 http://archive.ubuntu.com/ubuntu bionic/universe amd64 mecab-jumandic all 7.0-20130310-4 [2,212 B]\n",
            "Get: 9 http://archive.ubuntu.com/ubuntu bionic/universe amd64 mecab-ipadic all 2.7.0-20070801+main-1 [12.1 MB]\n",
            "Get: 10 http://archive.ubuntu.com/ubuntu bionic/universe amd64 mecab amd64 0.996-5 [132 kB]\n",
            "Get: 11 http://archive.ubuntu.com/ubuntu bionic/universe amd64 mecab-ipadic-utf8 all 2.7.0-20070801+main-1 [3,522 B]\n",
            "Fetched 29.3 MB in 2s (13.1 MB/s)\n",
            "Selecting previously unselected package libmagic-mgc.\n",
            "(Reading database ... 156475 files and directories currently installed.)\n",
            "Preparing to unpack .../00-libmagic-mgc_1%3a5.32-2ubuntu0.4_amd64.deb ...\n",
            "Unpacking libmagic-mgc (1:5.32-2ubuntu0.4) ...\n",
            "Selecting previously unselected package libmagic1:amd64.\n",
            "Preparing to unpack .../01-libmagic1_1%3a5.32-2ubuntu0.4_amd64.deb ...\n",
            "Unpacking libmagic1:amd64 (1:5.32-2ubuntu0.4) ...\n",
            "Selecting previously unselected package file.\n",
            "Preparing to unpack .../02-file_1%3a5.32-2ubuntu0.4_amd64.deb ...\n",
            "Unpacking file (1:5.32-2ubuntu0.4) ...\n",
            "Selecting previously unselected package libmecab2:amd64.\n",
            "Preparing to unpack .../03-libmecab2_0.996-5_amd64.deb ...\n",
            "Unpacking libmecab2:amd64 (0.996-5) ...\n",
            "Selecting previously unselected package libmecab-dev.\n",
            "Preparing to unpack .../04-libmecab-dev_0.996-5_amd64.deb ...\n",
            "Unpacking libmecab-dev (0.996-5) ...\n",
            "Selecting previously unselected package mecab-utils.\n",
            "Preparing to unpack .../05-mecab-utils_0.996-5_amd64.deb ...\n",
            "Unpacking mecab-utils (0.996-5) ...\n",
            "Selecting previously unselected package mecab-jumandic-utf8.\n",
            "Preparing to unpack .../06-mecab-jumandic-utf8_7.0-20130310-4_all.deb ...\n",
            "Unpacking mecab-jumandic-utf8 (7.0-20130310-4) ...\n",
            "Selecting previously unselected package mecab-jumandic.\n",
            "Preparing to unpack .../07-mecab-jumandic_7.0-20130310-4_all.deb ...\n",
            "Unpacking mecab-jumandic (7.0-20130310-4) ...\n",
            "Selecting previously unselected package mecab-ipadic.\n",
            "Preparing to unpack .../08-mecab-ipadic_2.7.0-20070801+main-1_all.deb ...\n",
            "Unpacking mecab-ipadic (2.7.0-20070801+main-1) ...\n",
            "Selecting previously unselected package mecab.\n",
            "Preparing to unpack .../09-mecab_0.996-5_amd64.deb ...\n",
            "Unpacking mecab (0.996-5) ...\n",
            "Selecting previously unselected package mecab-ipadic-utf8.\n",
            "Preparing to unpack .../10-mecab-ipadic-utf8_2.7.0-20070801+main-1_all.deb ...\n",
            "Unpacking mecab-ipadic-utf8 (2.7.0-20070801+main-1) ...\n",
            "Setting up libmecab2:amd64 (0.996-5) ...\n",
            "Setting up libmagic-mgc (1:5.32-2ubuntu0.4) ...\n",
            "Setting up libmagic1:amd64 (1:5.32-2ubuntu0.4) ...\n",
            "Setting up mecab-utils (0.996-5) ...\n",
            "Setting up mecab-ipadic (2.7.0-20070801+main-1) ...\n",
            "Compiling IPA dictionary for Mecab.  This takes long time...\n",
            "reading /usr/share/mecab/dic/ipadic/unk.def ... 40\n",
            "emitting double-array: 100% |###########################################| \n",
            "/usr/share/mecab/dic/ipadic/model.def is not found. skipped.\n",
            "reading /usr/share/mecab/dic/ipadic/Suffix.csv ... 1393\n",
            "reading /usr/share/mecab/dic/ipadic/Noun.nai.csv ... 42\n",
            "reading /usr/share/mecab/dic/ipadic/Others.csv ... 2\n",
            "reading /usr/share/mecab/dic/ipadic/Noun.name.csv ... 34202\n",
            "reading /usr/share/mecab/dic/ipadic/Postp-col.csv ... 91\n",
            "reading /usr/share/mecab/dic/ipadic/Symbol.csv ... 208\n",
            "reading /usr/share/mecab/dic/ipadic/Noun.org.csv ... 16668\n",
            "reading /usr/share/mecab/dic/ipadic/Auxil.csv ... 199\n",
            "reading /usr/share/mecab/dic/ipadic/Postp.csv ... 146\n",
            "reading /usr/share/mecab/dic/ipadic/Adverb.csv ... 3032\n",
            "reading /usr/share/mecab/dic/ipadic/Noun.demonst.csv ... 120\n",
            "reading /usr/share/mecab/dic/ipadic/Noun.place.csv ... 72999\n",
            "reading /usr/share/mecab/dic/ipadic/Adnominal.csv ... 135\n",
            "reading /usr/share/mecab/dic/ipadic/Noun.proper.csv ... 27327\n",
            "reading /usr/share/mecab/dic/ipadic/Noun.number.csv ... 42\n",
            "reading /usr/share/mecab/dic/ipadic/Noun.csv ... 60477\n",
            "reading /usr/share/mecab/dic/ipadic/Adj.csv ... 27210\n",
            "reading /usr/share/mecab/dic/ipadic/Noun.adverbal.csv ... 795\n",
            "reading /usr/share/mecab/dic/ipadic/Verb.csv ... 130750\n",
            "reading /usr/share/mecab/dic/ipadic/Noun.others.csv ... 151\n",
            "reading /usr/share/mecab/dic/ipadic/Interjection.csv ... 252\n",
            "reading /usr/share/mecab/dic/ipadic/Prefix.csv ... 221\n",
            "reading /usr/share/mecab/dic/ipadic/Noun.verbal.csv ... 12146\n",
            "reading /usr/share/mecab/dic/ipadic/Filler.csv ... 19\n",
            "reading /usr/share/mecab/dic/ipadic/Noun.adjv.csv ... 3328\n",
            "reading /usr/share/mecab/dic/ipadic/Conjunction.csv ... 171\n",
            "emitting double-array: 100% |###########################################| \n",
            "reading /usr/share/mecab/dic/ipadic/matrix.def ... 1316x1316\n",
            "emitting matrix      : 100% |###########################################| \n",
            "\n",
            "done!\n",
            "update-alternatives: using /var/lib/mecab/dic/ipadic to provide /var/lib/mecab/dic/debian (mecab-dictionary) in auto mode\n",
            "Setting up libmecab-dev (0.996-5) ...\n",
            "Setting up file (1:5.32-2ubuntu0.4) ...\n",
            "Setting up mecab-jumandic-utf8 (7.0-20130310-4) ...\n",
            "Compiling Juman dictionary for Mecab.\n",
            "reading /usr/share/mecab/dic/juman/unk.def ... 37\n",
            "emitting double-array: 100% |###########################################| \n",
            "reading /usr/share/mecab/dic/juman/Suffix.csv ... 2128\n",
            "reading /usr/share/mecab/dic/juman/Emoticon.csv ... 972\n",
            "reading /usr/share/mecab/dic/juman/Auto.csv ... 18931\n",
            "reading /usr/share/mecab/dic/juman/Postp.csv ... 108\n",
            "reading /usr/share/mecab/dic/juman/Rengo.csv ... 1118\n",
            "reading /usr/share/mecab/dic/juman/AuxV.csv ... 593\n",
            "reading /usr/share/mecab/dic/juman/Noun.suusi.csv ... 49\n",
            "reading /usr/share/mecab/dic/juman/Demonstrative.csv ... 97\n",
            "reading /usr/share/mecab/dic/juman/Special.csv ... 158\n",
            "reading /usr/share/mecab/dic/juman/Noun.keishiki.csv ... 8\n",
            "reading /usr/share/mecab/dic/juman/Wikipedia.csv ... 167709\n",
            "reading /usr/share/mecab/dic/juman/ContentW.csv ... 551145\n",
            "reading /usr/share/mecab/dic/juman/Prefix.csv ... 90\n",
            "reading /usr/share/mecab/dic/juman/Noun.hukusi.csv ... 81\n",
            "reading /usr/share/mecab/dic/juman/Noun.koyuu.csv ... 7964\n",
            "reading /usr/share/mecab/dic/juman/Assert.csv ... 34\n",
            "emitting double-array: 100% |###########################################| \n",
            "reading /usr/share/mecab/dic/juman/matrix.def ... 1876x1876\n",
            "emitting matrix      : 100% |###########################################| \n",
            "\n",
            "done!\n",
            "Setting up mecab-ipadic-utf8 (2.7.0-20070801+main-1) ...\n",
            "Compiling IPA dictionary for Mecab.  This takes long time...\n",
            "reading /usr/share/mecab/dic/ipadic/unk.def ... 40\n",
            "emitting double-array: 100% |###########################################| \n",
            "/usr/share/mecab/dic/ipadic/model.def is not found. skipped.\n",
            "reading /usr/share/mecab/dic/ipadic/Suffix.csv ... 1393\n",
            "reading /usr/share/mecab/dic/ipadic/Noun.nai.csv ... 42\n",
            "reading /usr/share/mecab/dic/ipadic/Others.csv ... 2\n",
            "reading /usr/share/mecab/dic/ipadic/Noun.name.csv ... 34202\n",
            "reading /usr/share/mecab/dic/ipadic/Postp-col.csv ... 91\n",
            "reading /usr/share/mecab/dic/ipadic/Symbol.csv ... 208\n",
            "reading /usr/share/mecab/dic/ipadic/Noun.org.csv ... 16668\n",
            "reading /usr/share/mecab/dic/ipadic/Auxil.csv ... 199\n",
            "reading /usr/share/mecab/dic/ipadic/Postp.csv ... 146\n",
            "reading /usr/share/mecab/dic/ipadic/Adverb.csv ... 3032\n",
            "reading /usr/share/mecab/dic/ipadic/Noun.demonst.csv ... 120\n",
            "reading /usr/share/mecab/dic/ipadic/Noun.place.csv ... 72999\n",
            "reading /usr/share/mecab/dic/ipadic/Adnominal.csv ... 135\n",
            "reading /usr/share/mecab/dic/ipadic/Noun.proper.csv ... 27327\n",
            "reading /usr/share/mecab/dic/ipadic/Noun.number.csv ... 42\n",
            "reading /usr/share/mecab/dic/ipadic/Noun.csv ... 60477\n",
            "reading /usr/share/mecab/dic/ipadic/Adj.csv ... 27210\n",
            "reading /usr/share/mecab/dic/ipadic/Noun.adverbal.csv ... 795\n",
            "reading /usr/share/mecab/dic/ipadic/Verb.csv ... 130750\n",
            "reading /usr/share/mecab/dic/ipadic/Noun.others.csv ... 151\n",
            "reading /usr/share/mecab/dic/ipadic/Interjection.csv ... 252\n",
            "reading /usr/share/mecab/dic/ipadic/Prefix.csv ... 221\n",
            "reading /usr/share/mecab/dic/ipadic/Noun.verbal.csv ... 12146\n",
            "reading /usr/share/mecab/dic/ipadic/Filler.csv ... 19\n",
            "reading /usr/share/mecab/dic/ipadic/Noun.adjv.csv ... 3328\n",
            "reading /usr/share/mecab/dic/ipadic/Conjunction.csv ... 171\n",
            "emitting double-array: 100% |###########################################| \n",
            "reading /usr/share/mecab/dic/ipadic/matrix.def ... 1316x1316\n",
            "emitting matrix      : 100% |###########################################| \n",
            "\n",
            "done!\n",
            "update-alternatives: using /var/lib/mecab/dic/ipadic-utf8 to provide /var/lib/mecab/dic/debian (mecab-dictionary) in auto mode\n",
            "Setting up mecab (0.996-5) ...\n",
            "Compiling IPA dictionary for Mecab.  This takes long time...\n",
            "reading /usr/share/mecab/dic/ipadic/unk.def ... 40\n",
            "emitting double-array: 100% |###########################################| \n",
            "/usr/share/mecab/dic/ipadic/model.def is not found. skipped.\n",
            "reading /usr/share/mecab/dic/ipadic/Suffix.csv ... 1393\n",
            "reading /usr/share/mecab/dic/ipadic/Noun.nai.csv ... 42\n",
            "reading /usr/share/mecab/dic/ipadic/Others.csv ... 2\n",
            "reading /usr/share/mecab/dic/ipadic/Noun.name.csv ... 34202\n",
            "reading /usr/share/mecab/dic/ipadic/Postp-col.csv ... 91\n",
            "reading /usr/share/mecab/dic/ipadic/Symbol.csv ... 208\n",
            "reading /usr/share/mecab/dic/ipadic/Noun.org.csv ... 16668\n",
            "reading /usr/share/mecab/dic/ipadic/Auxil.csv ... 199\n",
            "reading /usr/share/mecab/dic/ipadic/Postp.csv ... 146\n",
            "reading /usr/share/mecab/dic/ipadic/Adverb.csv ... 3032\n",
            "reading /usr/share/mecab/dic/ipadic/Noun.demonst.csv ... 120\n",
            "reading /usr/share/mecab/dic/ipadic/Noun.place.csv ... 72999\n",
            "reading /usr/share/mecab/dic/ipadic/Adnominal.csv ... 135\n",
            "reading /usr/share/mecab/dic/ipadic/Noun.proper.csv ... 27327\n",
            "reading /usr/share/mecab/dic/ipadic/Noun.number.csv ... 42\n",
            "reading /usr/share/mecab/dic/ipadic/Noun.csv ... 60477\n",
            "reading /usr/share/mecab/dic/ipadic/Adj.csv ... 27210\n",
            "reading /usr/share/mecab/dic/ipadic/Noun.adverbal.csv ... 795\n",
            "reading /usr/share/mecab/dic/ipadic/Verb.csv ... 130750\n",
            "reading /usr/share/mecab/dic/ipadic/Noun.others.csv ... 151\n",
            "reading /usr/share/mecab/dic/ipadic/Interjection.csv ... 252\n",
            "reading /usr/share/mecab/dic/ipadic/Prefix.csv ... 221\n",
            "reading /usr/share/mecab/dic/ipadic/Noun.verbal.csv ... 12146\n",
            "reading /usr/share/mecab/dic/ipadic/Filler.csv ... 19\n",
            "reading /usr/share/mecab/dic/ipadic/Noun.adjv.csv ... 3328\n",
            "reading /usr/share/mecab/dic/ipadic/Conjunction.csv ... 171\n",
            "emitting double-array: 100% |###########################################| \n",
            "reading /usr/share/mecab/dic/ipadic/matrix.def ... 1316x1316\n",
            "emitting matrix      : 100% |###########################################| \n",
            "\n",
            "done!\n",
            "Setting up mecab-jumandic (7.0-20130310-4) ...\n",
            "Processing triggers for man-db (2.8.3-2ubuntu0.1) ...\n",
            "Processing triggers for libc-bin (2.27-3ubuntu1.3) ...\n",
            "/sbin/ldconfig.real: /usr/local/lib/python3.7/dist-packages/ideep4py/lib/libmkldnn.so.0 is not a symbolic link\n",
            "\n",
            "                            \n",
            "Collecting mecab-python3\n",
            "  Downloading mecab_python3-1.0.4-cp37-cp37m-manylinux_2_5_x86_64.manylinux1_x86_64.whl (488 kB)\n",
            "\u001b[K     |████████████████████████████████| 488 kB 5.4 MB/s \n",
            "\u001b[?25hInstalling collected packages: mecab-python3\n",
            "Successfully installed mecab-python3-1.0.4\n"
          ]
        }
      ],
      "source": [
        "!apt install aptitude swig\n",
        "!aptitude install mecab libmecab-dev mecab-ipadic-utf8 git make curl xz-utils file -y\n",
        "!pip install mecab-python3\n",
        "#!pip install fugashi ipadic"
      ]
    },
    {
      "cell_type": "code",
      "source": [
        "!ln -s /etc/mecabrc /usr/local/etc/mecabrc"
      ],
      "metadata": {
        "id": "eru9zCwiUVyz"
      },
      "execution_count": null,
      "outputs": []
    },
    {
      "cell_type": "markdown",
      "source": [
        "## データの取得"
      ],
      "metadata": {
        "id": "p5A1ayIITtWU"
      }
    },
    {
      "cell_type": "markdown",
      "source": [
        "* ライブドア・ニュース・コーパスの前処理については下の記事を参考にした。\n",
        " * https://tech.fusic.co.jp/posts/2021-04-23-bert-multi-classification/"
      ],
      "metadata": {
        "id": "1s1d6oUlTTPN"
      }
    },
    {
      "cell_type": "code",
      "source": [
        "import os\n",
        "import urllib.request\n",
        "import re\n",
        "import csv\n",
        "import tarfile\n",
        "import torch\n",
        "import numpy as np\n",
        "import pandas as pd\n",
        "\n",
        "device = torch.device(\"cuda:0\" if torch.cuda.is_available() else \"cpu\")\n",
        "print(device)\n",
        "\n",
        "# データのダウンロード（カレントディレクトリに圧縮ファイルがダウンロードされる）\n",
        "urllib.request.urlretrieve(\"https://www.rondhuit.com/download/ldcc-20140209.tar.gz\", \"ldcc-20140209.tar.gz\")\n",
        "\n",
        "# ダウンロードした圧縮ファイルのパスを設定\n",
        "tgz_fname = \"ldcc-20140209.tar.gz\" \n",
        "\n",
        "#処理をした結果を保存するファイル名 \n",
        "tsv_fname = \"all_text.tsv\" "
      ],
      "metadata": {
        "colab": {
          "base_uri": "https://localhost:8080/"
        },
        "id": "PLwMAuiTTMr7",
        "outputId": "e70eba7a-9afc-45cf-973e-b6c7789a3712"
      },
      "execution_count": null,
      "outputs": [
        {
          "output_type": "stream",
          "name": "stdout",
          "text": [
            "cuda:0\n"
          ]
        }
      ]
    },
    {
      "cell_type": "code",
      "source": [
        "fname_class_list = {\n",
        "  \"dokujo-tsushin\": [],\n",
        "  \"it-life-hack\": [],\n",
        "  \"kaden-channel\": [],\n",
        "  \"livedoor-homme\": [],\n",
        "  \"movie-enter\": [],\n",
        "  \"peachy\": [],\n",
        "  \"smax\": [],\n",
        "  \"sports-watch\": [],\n",
        "  \"topic-news\": []\n",
        "}\n",
        "target_genres = list(fname_class_list.keys())"
      ],
      "metadata": {
        "id": "07cZ5oSCTej8"
      },
      "execution_count": null,
      "outputs": []
    },
    {
      "cell_type": "code",
      "source": [
        "def remove_brackets(inp):\n",
        "  # 記号とかを除く\n",
        "  brackets_tail = re.compile('【[^】]*】$')\n",
        "  brackets_head = re.compile('^【[^】]*】')\n",
        "  output = re.sub(brackets_head, '', re.sub(brackets_tail, '', inp))\n",
        "  return output\n",
        "\n",
        "def read_body(f):\n",
        "  # 2行スキップ\n",
        "  next(f) # URL\n",
        "  next(f) # タイムスタンプ\n",
        "  next(f) # タイトル\n",
        "  lines = [line.decode('utf-8').strip() for line in f]\n",
        "  body = ' '.join(lines)\n",
        "  body = remove_brackets(body)\n",
        "  return body\n",
        "\n",
        "# all_text.tsvを作る\n",
        "with tarfile.open(tgz_fname) as tf:\n",
        "  # 対象ファイルの選定\n",
        "  for ti in tf:\n",
        "    \"\"\"\n",
        "    ・ライセンスファイルはスキップ\n",
        "    ・genre内のtxt意外ならスキップ\n",
        "    ・txtファイル意外ならスキップ\n",
        "    ・用意したgenre意外ならスキップ\n",
        "    \"\"\"\n",
        "    if \"LICENSE.txt\" in ti.name:\n",
        "      continue\n",
        "    if len(ti.name.split('/')) < 3:\n",
        "      continue\n",
        "    if not ti.name.endswith(\".txt\"):\n",
        "      continue\n",
        "    genre = ti.name.split('/')[1]\n",
        "    if not genre in target_genres:\n",
        "      continue\n",
        "        \n",
        "    genre_index = target_genres.index(genre)\n",
        "    fname_class_list[target_genres[genre_index]].append(ti.name)\n",
        "\n",
        "  with open(tsv_fname, \"w\") as wf:\n",
        "    writer = csv.writer(wf, delimiter='\\t')\n",
        "    for i, genre in enumerate(target_genres):\n",
        "      for fname in fname_class_list[genre]:\n",
        "        f = tf.extractfile(fname)\n",
        "        row = [genre, i, read_body(f)]\n",
        "        writer.writerow(row)"
      ],
      "metadata": {
        "id": "XkG73IllTiZb"
      },
      "execution_count": null,
      "outputs": []
    },
    {
      "cell_type": "code",
      "source": [
        "# 作成したデータの読み込み\n",
        "df = pd.read_csv(\"all_text.tsv\", delimiter='\\t', header=None, names=['media_name', 'label', 'body'])\n",
        "df = df.dropna(how='any') # nanのところは落とす\n",
        "\n",
        "# データの確認\n",
        "print(f'データサイズ： {df.shape}')\n",
        "display(df.sample(10))"
      ],
      "metadata": {
        "colab": {
          "base_uri": "https://localhost:8080/",
          "height": 381
        },
        "id": "cwURoB4iTksz",
        "outputId": "40c3a324-a5c3-44a4-abf3-42eda09b39b6"
      },
      "execution_count": null,
      "outputs": [
        {
          "output_type": "stream",
          "name": "stdout",
          "text": [
            "データサイズ： (7367, 3)\n"
          ]
        },
        {
          "output_type": "display_data",
          "data": {
            "text/html": [
              "\n",
              "  <div id=\"df-cf6fe605-a5e2-404e-b768-3f7609102880\">\n",
              "    <div class=\"colab-df-container\">\n",
              "      <div>\n",
              "<style scoped>\n",
              "    .dataframe tbody tr th:only-of-type {\n",
              "        vertical-align: middle;\n",
              "    }\n",
              "\n",
              "    .dataframe tbody tr th {\n",
              "        vertical-align: top;\n",
              "    }\n",
              "\n",
              "    .dataframe thead th {\n",
              "        text-align: right;\n",
              "    }\n",
              "</style>\n",
              "<table border=\"1\" class=\"dataframe\">\n",
              "  <thead>\n",
              "    <tr style=\"text-align: right;\">\n",
              "      <th></th>\n",
              "      <th>media_name</th>\n",
              "      <th>label</th>\n",
              "      <th>body</th>\n",
              "    </tr>\n",
              "  </thead>\n",
              "  <tbody>\n",
              "    <tr>\n",
              "      <th>7352</th>\n",
              "      <td>topic-news</td>\n",
              "      <td>8</td>\n",
              "      <td>24日に放送された「ひるおび！」（TBS系列）では、金正日の専属料理人を務め、その後帰国した...</td>\n",
              "    </tr>\n",
              "    <tr>\n",
              "      <th>7295</th>\n",
              "      <td>topic-news</td>\n",
              "      <td>8</td>\n",
              "      <td>ロンドン五輪に出場するサッカー・U-23日本代表は、21日にメキシコ代表との親善試合に臨み、...</td>\n",
              "    </tr>\n",
              "    <tr>\n",
              "      <th>5078</th>\n",
              "      <td>smax</td>\n",
              "      <td>6</td>\n",
              "      <td>展示会イベント恒例のおねいさん写真のコーナーでございます  国内最大級の携帯電話や無線技術に...</td>\n",
              "    </tr>\n",
              "    <tr>\n",
              "      <th>6395</th>\n",
              "      <td>sports-watch</td>\n",
              "      <td>7</td>\n",
              "      <td>現在、大阪・長居スタジアムで行なわれているサッカー国際親善試合＝日本代表×アイスランド代表戦...</td>\n",
              "    </tr>\n",
              "    <tr>\n",
              "      <th>5992</th>\n",
              "      <td>sports-watch</td>\n",
              "      <td>7</td>\n",
              "      <td>今月1日、日本学生野球憲章の改正後初となる、プロ野球チーム（巨人・二軍）と大学単独チームによ...</td>\n",
              "    </tr>\n",
              "    <tr>\n",
              "      <th>4583</th>\n",
              "      <td>peachy</td>\n",
              "      <td>5</td>\n",
              "      <td>年に一度のスイーツとファッションの祭典、「TOKYO SWEETS COLLECTION 2...</td>\n",
              "    </tr>\n",
              "    <tr>\n",
              "      <th>5942</th>\n",
              "      <td>sports-watch</td>\n",
              "      <td>7</td>\n",
              "      <td>4日放送、テレビ朝日「報道ステーション」では、ドイツ・ブンデスリーガのドルトムントに所属する...</td>\n",
              "    </tr>\n",
              "    <tr>\n",
              "      <th>3245</th>\n",
              "      <td>movie-enter</td>\n",
              "      <td>4</td>\n",
              "      <td>アジア最大の映画の祭典「第24回東京国際映画祭（TIFF）」の開催日程が迫る中、学生応援団の...</td>\n",
              "    </tr>\n",
              "    <tr>\n",
              "      <th>1499</th>\n",
              "      <td>it-life-hack</td>\n",
              "      <td>1</td>\n",
              "      <td>niconicoは、ニコニコ動画に投稿された動画の中からユーザー投票により優秀な作品を決定す...</td>\n",
              "    </tr>\n",
              "    <tr>\n",
              "      <th>7031</th>\n",
              "      <td>topic-news</td>\n",
              "      <td>8</td>\n",
              "      <td>19日に「日経トレンディNET」に掲載された記事「カシオの不人気デジカメが台湾や中国で大ブレ...</td>\n",
              "    </tr>\n",
              "  </tbody>\n",
              "</table>\n",
              "</div>\n",
              "      <button class=\"colab-df-convert\" onclick=\"convertToInteractive('df-cf6fe605-a5e2-404e-b768-3f7609102880')\"\n",
              "              title=\"Convert this dataframe to an interactive table.\"\n",
              "              style=\"display:none;\">\n",
              "        \n",
              "  <svg xmlns=\"http://www.w3.org/2000/svg\" height=\"24px\"viewBox=\"0 0 24 24\"\n",
              "       width=\"24px\">\n",
              "    <path d=\"M0 0h24v24H0V0z\" fill=\"none\"/>\n",
              "    <path d=\"M18.56 5.44l.94 2.06.94-2.06 2.06-.94-2.06-.94-.94-2.06-.94 2.06-2.06.94zm-11 1L8.5 8.5l.94-2.06 2.06-.94-2.06-.94L8.5 2.5l-.94 2.06-2.06.94zm10 10l.94 2.06.94-2.06 2.06-.94-2.06-.94-.94-2.06-.94 2.06-2.06.94z\"/><path d=\"M17.41 7.96l-1.37-1.37c-.4-.4-.92-.59-1.43-.59-.52 0-1.04.2-1.43.59L10.3 9.45l-7.72 7.72c-.78.78-.78 2.05 0 2.83L4 21.41c.39.39.9.59 1.41.59.51 0 1.02-.2 1.41-.59l7.78-7.78 2.81-2.81c.8-.78.8-2.07 0-2.86zM5.41 20L4 18.59l7.72-7.72 1.47 1.35L5.41 20z\"/>\n",
              "  </svg>\n",
              "      </button>\n",
              "      \n",
              "  <style>\n",
              "    .colab-df-container {\n",
              "      display:flex;\n",
              "      flex-wrap:wrap;\n",
              "      gap: 12px;\n",
              "    }\n",
              "\n",
              "    .colab-df-convert {\n",
              "      background-color: #E8F0FE;\n",
              "      border: none;\n",
              "      border-radius: 50%;\n",
              "      cursor: pointer;\n",
              "      display: none;\n",
              "      fill: #1967D2;\n",
              "      height: 32px;\n",
              "      padding: 0 0 0 0;\n",
              "      width: 32px;\n",
              "    }\n",
              "\n",
              "    .colab-df-convert:hover {\n",
              "      background-color: #E2EBFA;\n",
              "      box-shadow: 0px 1px 2px rgba(60, 64, 67, 0.3), 0px 1px 3px 1px rgba(60, 64, 67, 0.15);\n",
              "      fill: #174EA6;\n",
              "    }\n",
              "\n",
              "    [theme=dark] .colab-df-convert {\n",
              "      background-color: #3B4455;\n",
              "      fill: #D2E3FC;\n",
              "    }\n",
              "\n",
              "    [theme=dark] .colab-df-convert:hover {\n",
              "      background-color: #434B5C;\n",
              "      box-shadow: 0px 1px 3px 1px rgba(0, 0, 0, 0.15);\n",
              "      filter: drop-shadow(0px 1px 2px rgba(0, 0, 0, 0.3));\n",
              "      fill: #FFFFFF;\n",
              "    }\n",
              "  </style>\n",
              "\n",
              "      <script>\n",
              "        const buttonEl =\n",
              "          document.querySelector('#df-cf6fe605-a5e2-404e-b768-3f7609102880 button.colab-df-convert');\n",
              "        buttonEl.style.display =\n",
              "          google.colab.kernel.accessAllowed ? 'block' : 'none';\n",
              "\n",
              "        async function convertToInteractive(key) {\n",
              "          const element = document.querySelector('#df-cf6fe605-a5e2-404e-b768-3f7609102880');\n",
              "          const dataTable =\n",
              "            await google.colab.kernel.invokeFunction('convertToInteractive',\n",
              "                                                     [key], {});\n",
              "          if (!dataTable) return;\n",
              "\n",
              "          const docLinkHtml = 'Like what you see? Visit the ' +\n",
              "            '<a target=\"_blank\" href=https://colab.research.google.com/notebooks/data_table.ipynb>data table notebook</a>'\n",
              "            + ' to learn more about interactive tables.';\n",
              "          element.innerHTML = '';\n",
              "          dataTable['output_type'] = 'display_data';\n",
              "          await google.colab.output.renderOutput(dataTable, element);\n",
              "          const docLink = document.createElement('div');\n",
              "          docLink.innerHTML = docLinkHtml;\n",
              "          element.appendChild(docLink);\n",
              "        }\n",
              "      </script>\n",
              "    </div>\n",
              "  </div>\n",
              "  "
            ],
            "text/plain": [
              "        media_name  label                                               body\n",
              "7352    topic-news      8  24日に放送された「ひるおび！」（TBS系列）では、金正日の専属料理人を務め、その後帰国した...\n",
              "7295    topic-news      8  ロンドン五輪に出場するサッカー・U-23日本代表は、21日にメキシコ代表との親善試合に臨み、...\n",
              "5078          smax      6  展示会イベント恒例のおねいさん写真のコーナーでございます  国内最大級の携帯電話や無線技術に...\n",
              "6395  sports-watch      7  現在、大阪・長居スタジアムで行なわれているサッカー国際親善試合＝日本代表×アイスランド代表戦...\n",
              "5992  sports-watch      7  今月1日、日本学生野球憲章の改正後初となる、プロ野球チーム（巨人・二軍）と大学単独チームによ...\n",
              "4583        peachy      5  年に一度のスイーツとファッションの祭典、「TOKYO SWEETS COLLECTION 2...\n",
              "5942  sports-watch      7  4日放送、テレビ朝日「報道ステーション」では、ドイツ・ブンデスリーガのドルトムントに所属する...\n",
              "3245   movie-enter      4  アジア最大の映画の祭典「第24回東京国際映画祭（TIFF）」の開催日程が迫る中、学生応援団の...\n",
              "1499  it-life-hack      1  niconicoは、ニコニコ動画に投稿された動画の中からユーザー投票により優秀な作品を決定す...\n",
              "7031    topic-news      8  19日に「日経トレンディNET」に掲載された記事「カシオの不人気デジカメが台湾や中国で大ブレ..."
            ]
          },
          "metadata": {}
        }
      ]
    },
    {
      "cell_type": "markdown",
      "source": [
        "## トークン化\n",
        "* MeCabを使ってトークン化する。"
      ],
      "metadata": {
        "id": "YzceAJIVkSku"
      }
    },
    {
      "cell_type": "code",
      "source": [
        "import MeCab\n",
        "\n",
        "m = MeCab.Tagger()"
      ],
      "metadata": {
        "id": "F7izFzJgTmz7"
      },
      "execution_count": null,
      "outputs": []
    },
    {
      "cell_type": "code",
      "source": [
        "m.parse(df.body[0])"
      ],
      "metadata": {
        "colab": {
          "base_uri": "https://localhost:8080/",
          "height": 161
        },
        "id": "4i8PpjbjVeZP",
        "outputId": "e9685700-b50a-48c4-80ab-df5601e7a9f4"
      },
      "execution_count": null,
      "outputs": [
        {
          "output_type": "execute_result",
          "data": {
            "application/vnd.google.colaboratory.intrinsic+json": {
              "type": "string"
            },
            "text/plain": [
              "'もうすぐ\\t副詞,一般,*,*,*,*,もうすぐ,モウスグ,モースグ\\nジューン\\t名詞,固有名詞,人名,名,*,*,ジューン,ジューン,ジューン\\n・\\t記号,一般,*,*,*,*,・,・,・\\nブライド\\t名詞,一般,*,*,*,*,ブライド,ブライド,ブライド\\nと\\t助詞,格助詞,引用,*,*,*,と,ト,ト\\n呼ば\\t動詞,自立,*,*,五段・バ行,未然形,呼ぶ,ヨバ,ヨバ\\nれる\\t動詞,接尾,*,*,一段,基本形,れる,レル,レル\\n６月\\t名詞,副詞可能,*,*,*,*,６月,ロクガツ,ロクガツ\\n。\\t記号,句点,*,*,*,*,。,。,。\\n独\\t名詞,固有名詞,地域,国,*,*,独,ドク,ドク\\n女\\t名詞,一般,*,*,*,*,女,オンナ,オンナ\\nの\\t助詞,連体化,*,*,*,*,の,ノ,ノ\\n中\\t名詞,非自立,副詞可能,*,*,*,中,ナカ,ナカ\\nに\\t助詞,格助詞,一般,*,*,*,に,ニ,ニ\\nは\\t助詞,係助詞,*,*,*,*,は,ハ,ワ\\n自分\\t名詞,一般,*,*,*,*,自分,ジブン,ジブン\\nの\\t助詞,連体化,*,*,*,*,の,ノ,ノ\\n式\\t名詞,一般,*,*,*,*,式,シキ,シキ\\nは\\t助詞,係助詞,*,*,*,*,は,ハ,ワ\\nまだ\\t副詞,助詞類接続,*,*,*,*,まだ,マダ,マダ\\nな\\t助動詞,*,*,*,特殊・ダ,体言接続,だ,ナ,ナ\\nのに\\t助詞,接続助詞,*,*,*,*,のに,ノニ,ノニ\\n呼ば\\t動詞,自立,*,*,五段・バ行,未然形,呼ぶ,ヨバ,ヨバ\\nれ\\t動詞,接尾,*,*,一段,連用形,れる,レ,レ\\nて\\t助詞,接続助詞,*,*,*,*,て,テ,テ\\nばかり\\t助詞,副助詞,*,*,*,*,ばかり,バカリ,バカリ\\n…\\t記号,一般,*,*,*,*,…,…,…\\n…\\t記号,一般,*,*,*,*,…,…,…\\nという\\t助詞,格助詞,連語,*,*,*,という,トイウ,トユウ\\n「\\t記号,括弧開,*,*,*,*,「,「,「\\nお祝い\\t名詞,サ変接続,*,*,*,*,お祝い,オイワイ,オイワイ\\n貧乏\\t名詞,サ変接続,*,*,*,*,貧乏,ビンボウ,ビンボー\\n」\\t記号,括弧閉,*,*,*,*,」,」,」\\n状態\\t名詞,一般,*,*,*,*,状態,ジョウタイ,ジョータイ\\nの\\t助詞,連体化,*,*,*,*,の,ノ,ノ\\n人\\t名詞,一般,*,*,*,*,人,ヒト,ヒト\\nも\\t助詞,係助詞,*,*,*,*,も,モ,モ\\n多い\\t形容詞,自立,*,*,形容詞・アウオ段,基本形,多い,オオイ,オーイ\\nの\\t名詞,非自立,一般,*,*,*,の,ノ,ノ\\nで\\t助動詞,*,*,*,特殊・ダ,連用形,だ,デ,デ\\nは\\t助詞,係助詞,*,*,*,*,は,ハ,ワ\\nない\\t助動詞,*,*,*,特殊・ナイ,基本形,ない,ナイ,ナイ\\nだろ\\t助動詞,*,*,*,特殊・ダ,未然形,だ,ダロ,ダロ\\nう\\t助動詞,*,*,*,不変化型,基本形,う,ウ,ウ\\nか\\t助詞,副助詞／並立助詞／終助詞,*,*,*,*,か,カ,カ\\n？\\t記号,一般,*,*,*,*,？,？,？\\n\\u3000\\t記号,空白,*,*,*,*,\\u3000,\\u3000,\\u3000\\nさらに\\t副詞,助詞類接続,*,*,*,*,さらに,サラニ,サラニ\\n出席\\t名詞,サ変接続,*,*,*,*,出席,シュッセキ,シュッセキ\\n回数\\t名詞,一般,*,*,*,*,回数,カイスウ,カイスー\\nを\\t助詞,格助詞,一般,*,*,*,を,ヲ,ヲ\\n重ね\\t動詞,自立,*,*,一段,連用形,重ねる,カサネ,カサネ\\nて\\t助詞,接続助詞,*,*,*,*,て,テ,テ\\nいく\\t動詞,非自立,*,*,五段・カ行促音便,基本形,いく,イク,イク\\nと\\t助詞,接続助詞,*,*,*,*,と,ト,ト\\n、\\t記号,読点,*,*,*,*,、,、,、\\nこんな\\t連体詞,*,*,*,*,*,こんな,コンナ,コンナ\\nお願い\\t名詞,サ変接続,*,*,*,*,お願い,オネガイ,オネガイ\\nごと\\t名詞,接尾,一般,*,*,*,ごと,ゴト,ゴト\\nを\\t助詞,格助詞,一般,*,*,*,を,ヲ,ヲ\\nさ\\t動詞,自立,*,*,サ変・スル,未然レル接続,する,サ,サ\\nれる\\t動詞,接尾,*,*,一段,基本形,れる,レル,レル\\nこと\\t名詞,非自立,一般,*,*,*,こと,コト,コト\\nも\\t助詞,係助詞,*,*,*,*,も,モ,モ\\n少なく\\t形容詞,自立,*,*,形容詞・アウオ段,連用テ接続,少ない,スクナク,スクナク\\nない\\t助動詞,*,*,*,特殊・ナイ,基本形,ない,ナイ,ナイ\\n。\\t記号,句点,*,*,*,*,。,。,。\\n「\\t記号,括弧開,*,*,*,*,「,「,「\\nお願い\\t名詞,サ変接続,*,*,*,*,お願い,オネガイ,オネガイ\\nが\\t助詞,格助詞,一般,*,*,*,が,ガ,ガ\\nある\\t動詞,自立,*,*,五段・ラ行,基本形,ある,アル,アル\\nん\\t名詞,非自立,一般,*,*,*,ん,ン,ン\\nだ\\t助動詞,*,*,*,特殊・ダ,基本形,だ,ダ,ダ\\nけど\\t助詞,接続助詞,*,*,*,*,けど,ケド,ケド\\n…\\t記号,一般,*,*,*,*,…,…,…\\n…\\t記号,一般,*,*,*,*,…,…,…\\n友人\\t名詞,一般,*,*,*,*,友人,ユウジン,ユージン\\n代表\\t名詞,サ変接続,*,*,*,*,代表,ダイヒョウ,ダイヒョー\\nの\\t助詞,連体化,*,*,*,*,の,ノ,ノ\\nスピーチ\\t名詞,サ変接続,*,*,*,*,スピーチ,スピーチ,スピーチ\\n、\\t記号,読点,*,*,*,*,、,、,、\\nやっ\\t動詞,自立,*,*,五段・ラ行,連用タ接続,やる,ヤッ,ヤッ\\nて\\t助詞,接続助詞,*,*,*,*,て,テ,テ\\nくれ\\t動詞,非自立,*,*,一段・クレル,未然形,くれる,クレ,クレ\\nない\\t助動詞,*,*,*,特殊・ナイ,基本形,ない,ナイ,ナイ\\nか\\t助詞,副助詞／並立助詞／終助詞,*,*,*,*,か,カ,カ\\nな\\t助詞,終助詞,*,*,*,*,な,ナ,ナ\\n？\\t記号,一般,*,*,*,*,？,？,？\\n」\\t記号,括弧閉,*,*,*,*,」,」,」\\nさて\\t接続詞,*,*,*,*,*,さて,サテ,サテ\\nそんな\\t連体詞,*,*,*,*,*,そんな,ソンナ,ソンナ\\nとき\\t名詞,非自立,副詞可能,*,*,*,とき,トキ,トキ\\n、\\t記号,読点,*,*,*,*,、,、,、\\n独\\t名詞,固有名詞,地域,国,*,*,独,ドク,ドク\\n女\\t名詞,一般,*,*,*,*,女,オンナ,オンナ\\nは\\t助詞,係助詞,*,*,*,*,は,ハ,ワ\\nどう\\t副詞,助詞類接続,*,*,*,*,どう,ドウ,ドー\\n対応\\t名詞,サ変接続,*,*,*,*,対応,タイオウ,タイオー\\nし\\t動詞,自立,*,*,サ変・スル,連用形,する,シ,シ\\nたら\\t助動詞,*,*,*,特殊・タ,仮定形,た,タラ,タラ\\nいい\\t形容詞,自立,*,*,形容詞・イイ,基本形,いい,イイ,イイ\\nか\\t助詞,副助詞／並立助詞／終助詞,*,*,*,*,か,カ,カ\\n？\\t記号,一般,*,*,*,*,？,？,？\\n最近\\t名詞,副詞可能,*,*,*,*,最近,サイキン,サイキン\\nだ\\t助動詞,*,*,*,特殊・ダ,基本形,だ,ダ,ダ\\nと\\t助詞,格助詞,引用,*,*,*,と,ト,ト\\nインターネット\\t名詞,一般,*,*,*,*,インターネット,インターネット,インターネット\\n等\\t名詞,接尾,一般,*,*,*,等,トウ,トー\\nで\\t助詞,格助詞,一般,*,*,*,で,デ,デ\\n検索\\t名詞,サ変接続,*,*,*,*,検索,ケンサク,ケンサク\\nすれ\\t動詞,自立,*,*,サ変・スル,仮定形,する,スレ,スレ\\nば\\t助詞,接続助詞,*,*,*,*,ば,バ,バ\\n友人\\t名詞,一般,*,*,*,*,友人,ユウジン,ユージン\\n代表\\t名詞,サ変接続,*,*,*,*,代表,ダイヒョウ,ダイヒョー\\nスピーチ\\t名詞,サ変接続,*,*,*,*,スピーチ,スピーチ,スピーチ\\n用\\t名詞,接尾,一般,*,*,*,用,ヨウ,ヨー\\nの\\t助詞,連体化,*,*,*,*,の,ノ,ノ\\n例文\\t名詞,一般,*,*,*,*,例文,レイブン,レイブン\\nサイト\\t名詞,一般,*,*,*,*,サイト,サイト,サイト\\nが\\t助詞,格助詞,一般,*,*,*,が,ガ,ガ\\nたくさん\\t名詞,副詞可能,*,*,*,*,たくさん,タクサン,タクサン\\n出\\t動詞,自立,*,*,一段,連用形,出る,デ,デ\\nて\\t助詞,接続助詞,*,*,*,*,て,テ,テ\\nくる\\t動詞,非自立,*,*,カ変・クル,基本形,くる,クル,クル\\nので\\t助詞,接続助詞,*,*,*,*,ので,ノデ,ノデ\\n、\\t記号,読点,*,*,*,*,、,、,、\\nそれら\\t名詞,代名詞,一般,*,*,*,それら,ソレラ,ソレラ\\nを\\t助詞,格助詞,一般,*,*,*,を,ヲ,ヲ\\n参考\\t名詞,サ変接続,*,*,*,*,参考,サンコウ,サンコー\\nに\\t助詞,格助詞,一般,*,*,*,に,ニ,ニ\\nすれ\\t動詞,自立,*,*,サ変・スル,仮定形,する,スレ,スレ\\nば\\t助詞,接続助詞,*,*,*,*,ば,バ,バ\\n、\\t記号,読点,*,*,*,*,、,、,、\\n無難\\t名詞,形容動詞語幹,*,*,*,*,無難,ブナン,ブナン\\nな\\t助動詞,*,*,*,特殊・ダ,体言接続,だ,ナ,ナ\\nもの\\t名詞,非自立,一般,*,*,*,もの,モノ,モノ\\nは\\t助詞,係助詞,*,*,*,*,は,ハ,ワ\\n誰\\t名詞,代名詞,一般,*,*,*,誰,ダレ,ダレ\\nでも\\t助詞,副助詞,*,*,*,*,でも,デモ,デモ\\n作成\\t名詞,サ変接続,*,*,*,*,作成,サクセイ,サクセイ\\nできる\\t動詞,自立,*,*,一段,基本形,できる,デキル,デキル\\n。\\t記号,句点,*,*,*,*,。,。,。\\nしかし\\t接続詞,*,*,*,*,*,しかし,シカシ,シカシ\\n由利\\t名詞,固有名詞,人名,姓,*,*,由利,ユリ,ユリ\\nさん\\t名詞,接尾,人名,*,*,*,さん,サン,サン\\n（\\t記号,括弧開,*,*,*,*,（,（,（\\n33\\t名詞,数,*,*,*,*,*\\n歳\\t名詞,接尾,助数詞,*,*,*,歳,サイ,サイ\\n）\\t記号,括弧閉,*,*,*,*,）,）,）\\nは\\t助詞,係助詞,*,*,*,*,は,ハ,ワ\\nネット\\t名詞,一般,*,*,*,*,ネット,ネット,ネット\\nを\\t助詞,格助詞,一般,*,*,*,を,ヲ,ヲ\\n参考\\t名詞,サ変接続,*,*,*,*,参考,サンコウ,サンコー\\nに\\t助詞,格助詞,一般,*,*,*,に,ニ,ニ\\nし\\t動詞,自立,*,*,サ変・スル,連用形,する,シ,シ\\nて\\t助詞,接続助詞,*,*,*,*,て,テ,テ\\n作成\\t名詞,サ変接続,*,*,*,*,作成,サクセイ,サクセイ\\nし\\t動詞,自立,*,*,サ変・スル,連用形,する,シ,シ\\nた\\t助動詞,*,*,*,特殊・タ,基本形,た,タ,タ\\nものの\\t助詞,接続助詞,*,*,*,*,ものの,モノノ,モノノ\\n「\\t記号,括弧開,*,*,*,*,「,「,「\\nこれ\\t名詞,代名詞,一般,*,*,*,これ,コレ,コレ\\nで\\t助詞,格助詞,一般,*,*,*,で,デ,デ\\n本当に\\t副詞,一般,*,*,*,*,本当に,ホントウニ,ホントーニ\\nいい\\t形容詞,自立,*,*,形容詞・イイ,基本形,いい,イイ,イイ\\nの\\t名詞,非自立,一般,*,*,*,の,ノ,ノ\\nか\\t助詞,副助詞／並立助詞／終助詞,*,*,*,*,か,カ,カ\\n不安\\t名詞,形容動詞語幹,*,*,*,*,不安,フアン,フアン\\nでし\\t助動詞,*,*,*,特殊・デス,連用形,です,デシ,デシ\\nた\\t助動詞,*,*,*,特殊・タ,基本形,た,タ,タ\\n。\\t記号,句点,*,*,*,*,。,。,。\\n一人暮らし\\t名詞,サ変接続,*,*,*,*,一人暮らし,ヒトリグラシ,ヒトリグラシ\\nな\\t助動詞,*,*,*,特殊・ダ,体言接続,だ,ナ,ナ\\nので\\t助詞,接続助詞,*,*,*,*,ので,ノデ,ノデ\\n聞か\\t動詞,自立,*,*,五段・カ行イ音便,未然形,聞く,キカ,キカ\\nせ\\t動詞,接尾,*,*,一段,連用形,せる,セ,セ\\nて\\t助詞,接続助詞,*,*,*,*,て,テ,テ\\n感想\\t名詞,一般,*,*,*,*,感想,カンソウ,カンソー\\nを\\t助詞,格助詞,一般,*,*,*,を,ヲ,ヲ\\nいっ\\t動詞,自立,*,*,五段・ワ行促音便,連用タ接続,いう,イッ,イッ\\nて\\t助詞,接続助詞,*,*,*,*,て,テ,テ\\nくれる\\t動詞,非自立,*,*,一段・クレル,基本形,くれる,クレル,クレル\\n人\\t名詞,一般,*,*,*,*,人,ヒト,ヒト\\nも\\t助詞,係助詞,*,*,*,*,も,モ,モ\\nい\\t動詞,自立,*,*,一段,未然形,いる,イ,イ\\nない\\t助動詞,*,*,*,特殊・ナイ,基本形,ない,ナイ,ナイ\\nし\\t助詞,接続助詞,*,*,*,*,し,シ,シ\\n、\\t記号,読点,*,*,*,*,、,、,、\\nか\\t助詞,副助詞／並立助詞／終助詞,*,*,*,*,か,カ,カ\\nと\\t助詞,格助詞,引用,*,*,*,と,ト,ト\\nいっ\\t動詞,自立,*,*,五段・ワ行促音便,連用タ接続,いう,イッ,イッ\\nて\\t助詞,接続助詞,*,*,*,*,て,テ,テ\\n他\\t名詞,一般,*,*,*,*,他,タ,タ\\nの\\t助詞,連体化,*,*,*,*,の,ノ,ノ\\n友人\\t名詞,一般,*,*,*,*,友人,ユウジン,ユージン\\nに\\t助詞,格助詞,一般,*,*,*,に,ニ,ニ\\nわざわざ\\t副詞,助詞類接続,*,*,*,*,わざわざ,ワザワザ,ワザワザ\\n聞か\\t動詞,自立,*,*,五段・カ行イ音便,未然形,聞く,キカ,キカ\\nせる\\t動詞,接尾,*,*,一段,基本形,せる,セル,セル\\nの\\t名詞,非自立,一般,*,*,*,の,ノ,ノ\\nも\\t助詞,係助詞,*,*,*,*,も,モ,モ\\nどう\\t副詞,助詞類接続,*,*,*,*,どう,ドウ,ドー\\nか\\t助詞,副助詞／並立助詞／終助詞,*,*,*,*,か,カ,カ\\nと\\t助詞,格助詞,引用,*,*,*,と,ト,ト\\n思う\\t動詞,自立,*,*,五段・ワ行促音便,基本形,思う,オモウ,オモウ\\nし\\t助詞,接続助詞,*,*,*,*,し,シ,シ\\n…\\t記号,一般,*,*,*,*,…,…,…\\n…\\t記号,一般,*,*,*,*,…,…,…\\n」\\t記号,括弧閉,*,*,*,*,」,」,」\\nという\\t助詞,格助詞,連語,*,*,*,という,トイウ,トユウ\\nこと\\t名詞,非自立,一般,*,*,*,こと,コト,コト\\nで\\t助詞,格助詞,一般,*,*,*,で,デ,デ\\n活用\\t名詞,サ変接続,*,*,*,*,活用,カツヨウ,カツヨー\\nし\\t動詞,自立,*,*,サ変・スル,連用形,する,シ,シ\\nた\\t助動詞,*,*,*,特殊・タ,基本形,た,タ,タ\\nの\\t名詞,非自立,一般,*,*,*,の,ノ,ノ\\nが\\t助詞,格助詞,一般,*,*,*,が,ガ,ガ\\n、\\t記号,読点,*,*,*,*,、,、,、\\nなんと\\t副詞,一般,*,*,*,*,なんと,ナント,ナント\\nインターネット\\t名詞,一般,*,*,*,*,インターネット,インターネット,インターネット\\nの\\t助詞,連体化,*,*,*,*,の,ノ,ノ\\n悩み\\t名詞,一般,*,*,*,*,悩み,ナヤミ,ナヤミ\\n相談\\t名詞,サ変接続,*,*,*,*,相談,ソウダン,ソーダン\\nサイト\\t名詞,一般,*,*,*,*,サイト,サイト,サイト\\nに\\t助詞,格助詞,一般,*,*,*,に,ニ,ニ\\n。\\t記号,句点,*,*,*,*,。,。,。\\nそこ\\t名詞,代名詞,一般,*,*,*,そこ,ソコ,ソコ\\nに\\t助詞,格助詞,一般,*,*,*,に,ニ,ニ\\n作成\\t名詞,サ変接続,*,*,*,*,作成,サクセイ,サクセイ\\nし\\t動詞,自立,*,*,サ変・スル,連用形,する,シ,シ\\nた\\t助動詞,*,*,*,特殊・タ,基本形,た,タ,タ\\nスピーチ\\t名詞,サ変接続,*,*,*,*,スピーチ,スピーチ,スピーチ\\n文\\t名詞,一般,*,*,*,*,文,ブン,ブン\\nを\\t助詞,格助詞,一般,*,*,*,を,ヲ,ヲ\\n掲載\\t名詞,サ変接続,*,*,*,*,掲載,ケイサイ,ケイサイ\\nし\\t動詞,自立,*,*,サ変・スル,連用形,する,シ,シ\\n「\\t記号,括弧開,*,*,*,*,「,「,「\\nこれ\\t名詞,代名詞,一般,*,*,*,これ,コレ,コレ\\nで\\t助詞,格助詞,一般,*,*,*,で,デ,デ\\n大丈夫\\t名詞,形容動詞語幹,*,*,*,*,大丈夫,ダイジョウブ,ダイジョーブ\\nか\\t助詞,副助詞／並立助詞／終助詞,*,*,*,*,か,カ,カ\\n添削\\t名詞,サ変接続,*,*,*,*,添削,テンサク,テンサク\\nし\\t動詞,自立,*,*,サ変・スル,連用形,する,シ,シ\\nて\\t助詞,接続助詞,*,*,*,*,て,テ,テ\\nください\\t動詞,非自立,*,*,五段・ラ行特殊,命令ｉ,くださる,クダサイ,クダサイ\\n」\\t記号,括弧閉,*,*,*,*,」,」,」\\nと\\t助詞,格助詞,引用,*,*,*,と,ト,ト\\nメッセージ\\t名詞,一般,*,*,*,*,メッセージ,メッセージ,メッセージ\\nを\\t助詞,格助詞,一般,*,*,*,を,ヲ,ヲ\\n送っ\\t動詞,自立,*,*,五段・ラ行,連用タ接続,送る,オクッ,オクッ\\nた\\t助動詞,*,*,*,特殊・タ,基本形,た,タ,タ\\nという\\t助詞,格助詞,連語,*,*,*,という,トイウ,トユウ\\nの\\t名詞,非自立,一般,*,*,*,の,ノ,ノ\\nで\\t助動詞,*,*,*,特殊・ダ,連用形,だ,デ,デ\\nある\\t助動詞,*,*,*,五段・ラ行アル,基本形,ある,アル,アル\\n。\\t記号,句点,*,*,*,*,。,。,。\\n「\\t記号,括弧開,*,*,*,*,「,「,「\\n一\\t名詞,数,*,*,*,*,一,イチ,イチ\\n晩\\t名詞,接尾,助数詞,*,*,*,晩,バン,バン\\nで\\t助詞,格助詞,一般,*,*,*,で,デ,デ\\n3\\t名詞,数,*,*,*,*,*\\n人\\t名詞,接尾,助数詞,*,*,*,人,ニン,ニン\\n位\\t名詞,接尾,一般,*,*,*,位,イ,イ\\nの\\t助詞,連体化,*,*,*,*,の,ノ,ノ\\n人\\t名詞,一般,*,*,*,*,人,ヒト,ヒト\\nが\\t助詞,格助詞,一般,*,*,*,が,ガ,ガ\\n添削\\t名詞,サ変接続,*,*,*,*,添削,テンサク,テンサク\\nし\\t動詞,自立,*,*,サ変・スル,連用形,する,シ,シ\\nて\\t助詞,接続助詞,*,*,*,*,て,テ,テ\\nくれ\\t動詞,非自立,*,*,一段・クレル,連用形,くれる,クレ,クレ\\nまし\\t助動詞,*,*,*,特殊・マス,連用形,ます,マシ,マシ\\nた\\t助動詞,*,*,*,特殊・タ,基本形,た,タ,タ\\nよ\\t助詞,終助詞,*,*,*,*,よ,ヨ,ヨ\\n。\\t記号,句点,*,*,*,*,。,。,。\\nちなみに\\t接続詞,*,*,*,*,*,ちなみに,チナミニ,チナミニ\\n自分\\t名詞,一般,*,*,*,*,自分,ジブン,ジブン\\n以外\\t名詞,非自立,副詞可能,*,*,*,以外,イガイ,イガイ\\nに\\t助詞,格助詞,一般,*,*,*,に,ニ,ニ\\nも\\t助詞,係助詞,*,*,*,*,も,モ,モ\\nそういう\\t連体詞,*,*,*,*,*,そういう,ソウイウ,ソーユウ\\n人\\t名詞,一般,*,*,*,*,人,ヒト,ヒト\\nは\\t助詞,係助詞,*,*,*,*,は,ハ,ワ\\nたくさん\\t名詞,副詞可能,*,*,*,*,たくさん,タクサン,タクサン\\nい\\t動詞,自立,*,*,一段,連用形,いる,イ,イ\\nて\\t助詞,接続助詞,*,*,*,*,て,テ,テ\\n、\\t記号,読点,*,*,*,*,、,、,、\\nその\\t連体詞,*,*,*,*,*,その,ソノ,ソノ\\n相談\\t名詞,サ変接続,*,*,*,*,相談,ソウダン,ソーダン\\nサイト\\t名詞,一般,*,*,*,*,サイト,サイト,サイト\\nに\\t助詞,格助詞,一般,*,*,*,に,ニ,ニ\\nは\\t助詞,係助詞,*,*,*,*,は,ハ,ワ\\n同じ\\t連体詞,*,*,*,*,*,同じ,オナジ,オナジ\\nよう\\t名詞,非自立,助動詞語幹,*,*,*,よう,ヨウ,ヨー\\nに\\t助詞,副詞化,*,*,*,*,に,ニ,ニ\\n添削\\t名詞,サ変接続,*,*,*,*,添削,テンサク,テンサク\\nを\\t助詞,格助詞,一般,*,*,*,を,ヲ,ヲ\\nお願い\\t名詞,サ変接続,*,*,*,*,お願い,オネガイ,オネガイ\\nする\\t動詞,自立,*,*,サ変・スル,基本形,する,スル,スル\\n投稿\\t名詞,サ変接続,*,*,*,*,投稿,トウコウ,トーコー\\nが\\t助詞,格助詞,一般,*,*,*,が,ガ,ガ\\nいっぱい\\t副詞,一般,*,*,*,*,いっぱい,イッパイ,イッパイ\\nあり\\t動詞,自立,*,*,五段・ラ行,連用形,ある,アリ,アリ\\nまし\\t助動詞,*,*,*,特殊・マス,連用形,ます,マシ,マシ\\nた\\t助動詞,*,*,*,特殊・タ,基本形,た,タ,タ\\n」\\t記号,括弧閉,*,*,*,*,」,」,」\\n（\\t記号,括弧開,*,*,*,*,（,（,（\\n由利\\t名詞,固有名詞,人名,姓,*,*,由利,ユリ,ユリ\\nさん\\t名詞,接尾,人名,*,*,*,さん,サン,サン\\n）\\t記号,括弧閉,*,*,*,*,）,）,）\\n。\\t記号,句点,*,*,*,*,。,。,。\\nためし\\t名詞,一般,*,*,*,*,ためし,タメシ,タメシ\\nに\\t助詞,格助詞,一般,*,*,*,に,ニ,ニ\\n教え\\t動詞,自立,*,*,一段,連用形,教える,オシエ,オシエ\\nて\\t助詞,接続助詞,*,*,*,*,て,テ,テ\\nもらっ\\t動詞,非自立,*,*,五段・ワ行促音便,連用タ接続,もらう,モラッ,モラッ\\nた\\t助動詞,*,*,*,特殊・タ,基本形,た,タ,タ\\nその\\t連体詞,*,*,*,*,*,その,ソノ,ソノ\\nサイト\\t名詞,一般,*,*,*,*,サイト,サイト,サイト\\nを\\t助詞,格助詞,一般,*,*,*,を,ヲ,ヲ\\nみ\\t動詞,自立,*,*,一段,連用形,みる,ミ,ミ\\nて\\t助詞,接続助詞,*,*,*,*,て,テ,テ\\nみる\\t動詞,非自立,*,*,一段,基本形,みる,ミル,ミル\\nと\\t助詞,接続助詞,*,*,*,*,と,ト,ト\\n、\\t記号,読点,*,*,*,*,、,、,、\\n確か\\t名詞,形容動詞語幹,*,*,*,*,確か,タシカ,タシカ\\nに\\t助詞,副詞化,*,*,*,*,に,ニ,ニ\\n「\\t記号,括弧開,*,*,*,*,「,「,「\\n結婚式\\t名詞,一般,*,*,*,*,結婚式,ケッコンシキ,ケッコンシキ\\nの\\t助詞,連体化,*,*,*,*,の,ノ,ノ\\nスピーチ\\t名詞,サ変接続,*,*,*,*,スピーチ,スピーチ,スピーチ\\nの\\t助詞,連体化,*,*,*,*,の,ノ,ノ\\n添削\\t名詞,サ変接続,*,*,*,*,添削,テンサク,テンサク\\nお願い\\t名詞,サ変接続,*,*,*,*,お願い,オネガイ,オネガイ\\nし\\t動詞,自立,*,*,サ変・スル,連用形,する,シ,シ\\nます\\t助動詞,*,*,*,特殊・マス,基本形,ます,マス,マス\\n」\\t記号,括弧閉,*,*,*,*,」,」,」\\nという\\t助詞,格助詞,連語,*,*,*,という,トイウ,トユウ\\n投稿\\t名詞,サ変接続,*,*,*,*,投稿,トウコウ,トーコー\\nが\\t助詞,格助詞,一般,*,*,*,が,ガ,ガ\\n1000\\t名詞,数,*,*,*,*,*\\n件\\t名詞,接尾,助数詞,*,*,*,件,ケン,ケン\\nを\\t助詞,格助詞,一般,*,*,*,を,ヲ,ヲ\\n超える\\t動詞,自立,*,*,一段,基本形,超える,コエル,コエル\\nくらい\\t助詞,副助詞,*,*,*,*,くらい,クライ,クライ\\nあっ\\t動詞,自立,*,*,五段・ラ行,連用タ接続,ある,アッ,アッ\\nた\\t助動詞,*,*,*,特殊・タ,基本形,た,タ,タ\\n。\\t記号,句点,*,*,*,*,。,。,。\\nめでたい\\t形容詞,自立,*,*,形容詞・アウオ段,基本形,めでたい,メデタイ,メデタイ\\n結婚式\\t名詞,一般,*,*,*,*,結婚式,ケッコンシキ,ケッコンシキ\\nの\\t助詞,連体化,*,*,*,*,の,ノ,ノ\\n影\\t名詞,一般,*,*,*,*,影,カゲ,カゲ\\nで\\t助詞,格助詞,一般,*,*,*,で,デ,デ\\nこんな\\t連体詞,*,*,*,*,*,こんな,コンナ,コンナ\\nネット\\t名詞,一般,*,*,*,*,ネット,ネット,ネット\\nコミュニティ\\t名詞,一般,*,*,*,*,コミュニティ,コミュニティ,コミュニティ\\nが\\t助詞,格助詞,一般,*,*,*,が,ガ,ガ\\nあっ\\t動詞,自立,*,*,五段・ラ行,連用タ接続,ある,アッ,アッ\\nた\\t助動詞,*,*,*,特殊・タ,基本形,た,タ,タ\\nと\\t助詞,格助詞,引用,*,*,*,と,ト,ト\\nは\\t助詞,係助詞,*,*,*,*,は,ハ,ワ\\n知ら\\t動詞,自立,*,*,五段・ラ行,未然形,知る,シラ,シラ\\nなかっ\\t助動詞,*,*,*,特殊・ナイ,連用タ接続,ない,ナカッ,ナカッ\\nた\\t助動詞,*,*,*,特殊・タ,基本形,た,タ,タ\\n。\\t記号,句点,*,*,*,*,。,。,。\\nしかし\\t接続詞,*,*,*,*,*,しかし,シカシ,シカシ\\n「\\t記号,括弧開,*,*,*,*,「,「,「\\n事前\\t名詞,一般,*,*,*,*,事前,ジゼン,ジゼン\\nに\\t助詞,格助詞,一般,*,*,*,に,ニ,ニ\\nお願い\\t名詞,サ変接続,*,*,*,*,お願い,オネガイ,オネガイ\\nさ\\t動詞,自立,*,*,サ変・スル,未然レル接続,する,サ,サ\\nれる\\t動詞,接尾,*,*,一段,基本形,れる,レル,レル\\nスピーチ\\t名詞,サ変接続,*,*,*,*,スピーチ,スピーチ,スピーチ\\nなら\\t助動詞,*,*,*,特殊・ダ,仮定形,だ,ナラ,ナラ\\n準備\\t名詞,サ変接続,*,*,*,*,準備,ジュンビ,ジュンビ\\nが\\t助詞,格助詞,一般,*,*,*,が,ガ,ガ\\nできる\\t動詞,自立,*,*,一段,基本形,できる,デキル,デキル\\nし\\t助詞,接続助詞,*,*,*,*,し,シ,シ\\nまだ\\t副詞,助詞類接続,*,*,*,*,まだ,マダ,マダ\\nいい\\t動詞,自立,*,*,五段・ワ行促音便,連用形,いう,イイ,イイ\\nです\\t助動詞,*,*,*,特殊・デス,基本形,です,デス,デス\\nよ\\t助詞,終助詞,*,*,*,*,よ,ヨ,ヨ\\n。\\t記号,句点,*,*,*,*,。,。,。\\n一番\\t名詞,副詞可能,*,*,*,*,一番,イチバン,イチバン\\n嫌\\t名詞,形容動詞語幹,*,*,*,*,嫌,イヤ,イヤ\\nな\\t助動詞,*,*,*,特殊・ダ,体言接続,だ,ナ,ナ\\nの\\t名詞,非自立,一般,*,*,*,の,ノ,ノ\\nは\\t助詞,係助詞,*,*,*,*,は,ハ,ワ\\n何\\t名詞,代名詞,一般,*,*,*,何,ナニ,ナニ\\nと\\t助詞,格助詞,引用,*,*,*,と,ト,ト\\nいっ\\t動詞,自立,*,*,五段・ワ行促音便,連用タ接続,いう,イッ,イッ\\nて\\t助詞,接続助詞,*,*,*,*,て,テ,テ\\nも\\t助詞,係助詞,*,*,*,*,も,モ,モ\\nサプライズスピーチ\\t名詞,一般,*,*,*,*,*\\n！\\t記号,一般,*,*,*,*,！,！,！\\n」\\t記号,括弧閉,*,*,*,*,」,」,」\\nと\\t助詞,格助詞,引用,*,*,*,と,ト,ト\\n語る\\t動詞,自立,*,*,五段・ラ行,基本形,語る,カタル,カタル\\nの\\t名詞,非自立,一般,*,*,*,の,ノ,ノ\\nは\\t助詞,係助詞,*,*,*,*,は,ハ,ワ\\n昨年\\t名詞,副詞可能,*,*,*,*,昨年,サクネン,サクネン\\nだけ\\t助詞,副助詞,*,*,*,*,だけ,ダケ,ダケ\\nで\\t助詞,格助詞,一般,*,*,*,で,デ,デ\\n10\\t名詞,数,*,*,*,*,*\\n万\\t名詞,数,*,*,*,*,万,マン,マン\\n以上\\t名詞,非自立,副詞可能,*,*,*,以上,イジョウ,イジョー\\nお祝い\\t名詞,サ変接続,*,*,*,*,お祝い,オイワイ,オイワイ\\nに\\t助詞,格助詞,一般,*,*,*,に,ニ,ニ\\nかかっ\\t動詞,自立,*,*,五段・ラ行,連用タ接続,かかる,カカッ,カカッ\\nた\\t助動詞,*,*,*,特殊・タ,基本形,た,タ,タ\\nという\\t助詞,格助詞,連語,*,*,*,という,トイウ,トユウ\\nお祝い\\t名詞,サ変接続,*,*,*,*,お祝い,オイワイ,オイワイ\\n貧乏\\t名詞,サ変接続,*,*,*,*,貧乏,ビンボウ,ビンボー\\n独\\t名詞,固有名詞,地域,国,*,*,独,ドク,ドク\\n女\\t名詞,一般,*,*,*,*,女,オンナ,オンナ\\nの\\t助詞,連体化,*,*,*,*,の,ノ,ノ\\n薫\\t名詞,固有名詞,人名,姓,*,*,薫,カオル,カオル\\nさん\\t名詞,接尾,人名,*,*,*,さん,サン,サン\\n（\\t記号,括弧開,*,*,*,*,（,（,（\\n35\\t名詞,数,*,*,*,*,*\\n歳\\t名詞,接尾,助数詞,*,*,*,歳,サイ,サイ\\n）\\t記号,括弧閉,*,*,*,*,）,）,）\\n「\\t記号,括弧開,*,*,*,*,「,「,「\\n私\\t名詞,代名詞,一般,*,*,*,私,ワタシ,ワタシ\\nは\\t助詞,係助詞,*,*,*,*,は,ハ,ワ\\n基本\\t名詞,一般,*,*,*,*,基本,キホン,キホン\\n的\\t名詞,接尾,形容動詞語幹,*,*,*,的,テキ,テキ\\nに\\t助詞,副詞化,*,*,*,*,に,ニ,ニ\\n人前\\t名詞,一般,*,*,*,*,人前,ヒトマエ,ヒトマエ\\nで\\t助詞,格助詞,一般,*,*,*,で,デ,デ\\n話す\\t動詞,自立,*,*,五段・サ行,基本形,話す,ハナス,ハナス\\nの\\t名詞,非自立,一般,*,*,*,の,ノ,ノ\\nが\\t助詞,格助詞,一般,*,*,*,が,ガ,ガ\\n苦手\\t名詞,形容動詞語幹,*,*,*,*,苦手,ニガテ,ニガテ\\nな\\t助動詞,*,*,*,特殊・ダ,体言接続,だ,ナ,ナ\\nん\\t名詞,非自立,一般,*,*,*,ん,ン,ン\\nです\\t助動詞,*,*,*,特殊・デス,基本形,です,デス,デス\\nよ\\t助詞,終助詞,*,*,*,*,よ,ヨ,ヨ\\n。\\t記号,句点,*,*,*,*,。,。,。\\nだから\\t接続詞,*,*,*,*,*,だから,ダカラ,ダカラ\\nいきなり\\t副詞,助詞類接続,*,*,*,*,いきなり,イキナリ,イキナリ\\n指名\\t名詞,サ変接続,*,*,*,*,指名,シメイ,シメイ\\nさ\\t動詞,自立,*,*,サ変・スル,未然レル接続,する,サ,サ\\nれる\\t動詞,接尾,*,*,一段,基本形,れる,レル,レル\\nと\\t助詞,接続助詞,*,*,*,*,と,ト,ト\\nしどろもどろ\\t名詞,形容動詞語幹,*,*,*,*,しどろもどろ,シドロモドロ,シドロモドロ\\nに\\t助詞,格助詞,一般,*,*,*,に,ニ,ニ\\nなっ\\t動詞,自立,*,*,五段・ラ行,連用タ接続,なる,ナッ,ナッ\\nて\\t助詞,接続助詞,*,*,*,*,て,テ,テ\\n何\\t名詞,代名詞,一般,*,*,*,何,ナニ,ナニ\\nも\\t助詞,係助詞,*,*,*,*,も,モ,モ\\nいえ\\t動詞,自立,*,*,一段,未然形,いえる,イエ,イエ\\nなく\\t助動詞,*,*,*,特殊・ナイ,連用テ接続,ない,ナク,ナク\\nなる\\t動詞,自立,*,*,五段・ラ行,基本形,なる,ナル,ナル\\n。\\t記号,句点,*,*,*,*,。,。,。\\nそうすると\\t接続詞,*,*,*,*,*,そうすると,ソウスルト,ソースルト\\n自己\\t名詞,一般,*,*,*,*,自己,ジコ,ジコ\\n嫌悪\\t名詞,サ変接続,*,*,*,*,嫌悪,ケンオ,ケンオ\\nに\\t助詞,格助詞,一般,*,*,*,に,ニ,ニ\\n陥っ\\t動詞,自立,*,*,五段・ラ行,連用タ接続,陥る,オチイッ,オチイッ\\nて\\t助詞,接続助詞,*,*,*,*,て,テ,テ\\n終わっ\\t動詞,非自立,*,*,五段・ラ行,連用タ接続,終わる,オワッ,オワッ\\nた\\t助動詞,*,*,*,特殊・タ,基本形,た,タ,タ\\n後\\t名詞,非自立,副詞可能,*,*,*,後,ノチ,ノチ\\nでも\\t助詞,副助詞,*,*,*,*,でも,デモ,デモ\\nまったく\\t副詞,助詞類接続,*,*,*,*,まったく,マッタク,マッタク\\n楽しめ\\t動詞,自立,*,*,一段,未然形,楽しめる,タノシメ,タノシメ\\nなく\\t助動詞,*,*,*,特殊・ナイ,連用テ接続,ない,ナク,ナク\\nなり\\t動詞,自立,*,*,五段・ラ行,連用形,なる,ナリ,ナリ\\nます\\t助動詞,*,*,*,特殊・マス,基本形,ます,マス,マス\\nね\\t助詞,終助詞,*,*,*,*,ね,ネ,ネ\\n」\\t記号,括弧閉,*,*,*,*,」,」,」\\nサプライズスピーチ\\t名詞,一般,*,*,*,*,*\\nの\\t助詞,連体化,*,*,*,*,の,ノ,ノ\\nメリット\\t名詞,一般,*,*,*,*,メリット,メリット,メリット\\nとして\\t助詞,格助詞,連語,*,*,*,として,トシテ,トシテ\\nは\\t助詞,係助詞,*,*,*,*,は,ハ,ワ\\n、\\t記号,読点,*,*,*,*,、,、,、\\n準備\\t名詞,サ変接続,*,*,*,*,準備,ジュンビ,ジュンビ\\nし\\t動詞,自立,*,*,サ変・スル,連用形,する,シ,シ\\nて\\t助詞,接続助詞,*,*,*,*,て,テ,テ\\nい\\t動詞,非自立,*,*,一段,未然形,いる,イ,イ\\nない\\t助動詞,*,*,*,特殊・ナイ,基本形,ない,ナイ,ナイ\\n状態\\t名詞,一般,*,*,*,*,状態,ジョウタイ,ジョータイ\\nな\\t助動詞,*,*,*,特殊・ダ,体言接続,だ,ナ,ナ\\nので\\t助詞,接続助詞,*,*,*,*,ので,ノデ,ノデ\\n、\\t記号,読点,*,*,*,*,、,、,、\\nフランク\\t名詞,形容動詞語幹,*,*,*,*,フランク,フランク,フランク\\nな\\t助動詞,*,*,*,特殊・ダ,体言接続,だ,ナ,ナ\\n本音\\t名詞,一般,*,*,*,*,本音,ホンネ,ホンネ\\nを\\t助詞,格助詞,一般,*,*,*,を,ヲ,ヲ\\nしゃべっ\\t動詞,自立,*,*,五段・ラ行,連用タ接続,しゃべる,シャベッ,シャベッ\\nて\\t助詞,接続助詞,*,*,*,*,て,テ,テ\\nもらえる\\t動詞,非自立,*,*,一段,基本形,もらえる,モラエル,モラエル\\nという\\t助詞,格助詞,連語,*,*,*,という,トイウ,トユウ\\n楽し\\t形容詞,自立,*,*,形容詞・イ段,ガル接続,楽しい,タノシ,タノシ\\nさ\\t名詞,接尾,特殊,*,*,*,さ,サ,サ\\nが\\t助詞,格助詞,一般,*,*,*,が,ガ,ガ\\nある\\t動詞,自立,*,*,五段・ラ行,基本形,ある,アル,アル\\nよう\\t名詞,非自立,助動詞語幹,*,*,*,よう,ヨウ,ヨー\\nだ\\t助動詞,*,*,*,特殊・ダ,基本形,だ,ダ,ダ\\n。\\t記号,句点,*,*,*,*,。,。,。\\nしかし\\t接続詞,*,*,*,*,*,しかし,シカシ,シカシ\\nそれ\\t名詞,代名詞,一般,*,*,*,それ,ソレ,ソレ\\nも\\t助詞,係助詞,*,*,*,*,も,モ,モ\\n上手\\t名詞,形容動詞語幹,*,*,*,*,上手,ジョウズ,ジョーズ\\nに\\t助詞,副詞化,*,*,*,*,に,ニ,ニ\\n対応\\t名詞,サ変接続,*,*,*,*,対応,タイオウ,タイオー\\nできる\\t動詞,自立,*,*,一段,基本形,できる,デキル,デキル\\n人\\t名詞,一般,*,*,*,*,人,ヒト,ヒト\\nなら\\t助動詞,*,*,*,特殊・ダ,仮定形,だ,ナラ,ナラ\\nいい\\t形容詞,自立,*,*,形容詞・イイ,基本形,いい,イイ,イイ\\nが\\t助詞,接続助詞,*,*,*,*,が,ガ,ガ\\n、\\t記号,読点,*,*,*,*,、,、,、\\n苦手\\t名詞,形容動詞語幹,*,*,*,*,苦手,ニガテ,ニガテ\\nな\\t助動詞,*,*,*,特殊・ダ,体言接続,だ,ナ,ナ\\n人\\t名詞,一般,*,*,*,*,人,ヒト,ヒト\\nの\\t助詞,連体化,*,*,*,*,の,ノ,ノ\\n場合\\t名詞,副詞可能,*,*,*,*,場合,バアイ,バアイ\\nだ\\t助動詞,*,*,*,特殊・ダ,基本形,だ,ダ,ダ\\nと\\t助詞,接続助詞,*,*,*,*,と,ト,ト\\n「\\t記号,括弧開,*,*,*,*,「,「,「\\nフランク\\t名詞,固有名詞,人名,名,*,*,フランク,フランク,フランク\\n」\\t記号,括弧閉,*,*,*,*,」,」,」\\nで\\t助詞,格助詞,一般,*,*,*,で,デ,デ\\nは\\t助詞,係助詞,*,*,*,*,は,ハ,ワ\\nなく\\t助動詞,*,*,*,特殊・ナイ,連用テ接続,ない,ナク,ナク\\n「\\t記号,括弧開,*,*,*,*,「,「,「\\nしどろもどろ\\t名詞,形容動詞語幹,*,*,*,*,しどろもどろ,シドロモドロ,シドロモドロ\\n」\\t記号,括弧閉,*,*,*,*,」,」,」\\nに\\t助詞,格助詞,一般,*,*,*,に,ニ,ニ\\nなる\\t動詞,自立,*,*,五段・ラ行,基本形,なる,ナル,ナル\\n危険\\t名詞,形容動詞語幹,*,*,*,*,危険,キケン,キケン\\n性\\t名詞,接尾,一般,*,*,*,性,セイ,セイ\\n大\\t名詞,接尾,一般,*,*,*,大,ダイ,ダイ\\n。\\t記号,句点,*,*,*,*,。,。,。\\nちなみに\\t接続詞,*,*,*,*,*,ちなみに,チナミニ,チナミニ\\nプロ\\t名詞,一般,*,*,*,*,プロ,プロ,プロ\\nの\\t助詞,連体化,*,*,*,*,の,ノ,ノ\\n司会\\t名詞,サ変接続,*,*,*,*,司会,シカイ,シカイ\\n者\\t名詞,接尾,一般,*,*,*,者,シャ,シャ\\nの\\t助詞,連体化,*,*,*,*,の,ノ,ノ\\n場合\\t名詞,副詞可能,*,*,*,*,場合,バアイ,バアイ\\n、\\t記号,読点,*,*,*,*,、,、,、\\n本当\\t名詞,一般,*,*,*,*,本当,ホントウ,ホントー\\nの\\t助詞,連体化,*,*,*,*,の,ノ,ノ\\nサプライズ\\t名詞,一般,*,*,*,*,*\\nで\\t助詞,格助詞,一般,*,*,*,で,デ,デ\\nは\\t助詞,係助詞,*,*,*,*,は,ハ,ワ\\nなく\\t助動詞,*,*,*,特殊・ナイ,連用テ接続,ない,ナク,ナク\\n式\\t名詞,一般,*,*,*,*,式,シキ,シキ\\nの\\t助詞,連体化,*,*,*,*,の,ノ,ノ\\n最中\\t名詞,副詞可能,*,*,*,*,最中,サイチュウ,サイチュー\\nに\\t助詞,格助詞,一般,*,*,*,に,ニ,ニ\\n「\\t記号,括弧開,*,*,*,*,「,「,「\\nのちほど\\t副詞,一般,*,*,*,*,のちほど,ノチホド,ノチホド\\nサプライズスピーチ\\t名詞,一般,*,*,*,*,*\\nとして\\t助詞,格助詞,連語,*,*,*,として,トシテ,トシテ\\nご\\t接頭詞,名詞接続,*,*,*,*,ご,ゴ,ゴ\\n指名\\t名詞,サ変接続,*,*,*,*,指名,シメイ,シメイ\\nさ\\t動詞,自立,*,*,サ変・スル,未然レル接続,する,サ,サ\\nせ\\t動詞,接尾,*,*,一段,連用形,せる,セ,セ\\nて\\t助詞,接続助詞,*,*,*,*,て,テ,テ\\nいただき\\t動詞,非自立,*,*,五段・カ行イ音便,連用形,いただく,イタダキ,イタダキ\\nます\\t助動詞,*,*,*,特殊・マス,基本形,ます,マス,マス\\n」\\t記号,括弧閉,*,*,*,*,」,」,」\\nという\\t助詞,格助詞,連語,*,*,*,という,トイウ,トユウ\\n一言\\t名詞,一般,*,*,*,*,一言,ヒトコト,ヒトコト\\nが\\t助詞,格助詞,一般,*,*,*,が,ガ,ガ\\nある\\t動詞,自立,*,*,五段・ラ行,基本形,ある,アル,アル\\nこと\\t名詞,非自立,一般,*,*,*,こと,コト,コト\\nも\\t助詞,係助詞,*,*,*,*,も,モ,モ\\n多い\\t形容詞,自立,*,*,形容詞・アウオ段,基本形,多い,オオイ,オーイ\\nよう\\t名詞,非自立,助動詞語幹,*,*,*,よう,ヨウ,ヨー\\nだ\\t助動詞,*,*,*,特殊・ダ,基本形,だ,ダ,ダ\\nが\\t助詞,接続助詞,*,*,*,*,が,ガ,ガ\\n、\\t記号,読点,*,*,*,*,、,、,、\\n薫\\t名詞,固有名詞,人名,姓,*,*,薫,カオル,カオル\\nさん\\t名詞,接尾,人名,*,*,*,さん,サン,サン\\n曰く\\t名詞,副詞可能,*,*,*,*,曰く,イワク,イワク\\n「\\t記号,括弧開,*,*,*,*,「,「,「\\nそんな\\t連体詞,*,*,*,*,*,そんな,ソンナ,ソンナ\\n何分\\t名詞,一般,*,*,*,*,何分,ナニブン,ナニブン\\n前\\t名詞,副詞可能,*,*,*,*,前,マエ,マエ\\nに\\t助詞,格助詞,一般,*,*,*,に,ニ,ニ\\n言わ\\t動詞,自立,*,*,五段・ワ行促音便,未然形,言う,イワ,イワ\\nれ\\t動詞,接尾,*,*,一段,連用形,れる,レ,レ\\nて\\t助詞,接続助詞,*,*,*,*,て,テ,テ\\nも\\t助詞,係助詞,*,*,*,*,も,モ,モ\\n無理\\t名詞,形容動詞語幹,*,*,*,*,無理,ムリ,ムリ\\n！\\t記号,一般,*,*,*,*,！,！,！\\n」\\t記号,括弧閉,*,*,*,*,」,」,」\\nらしい\\t助動詞,*,*,*,形容詞・イ段,基本形,らしい,ラシイ,ラシイ\\n。\\t記号,句点,*,*,*,*,。,。,。\\n要は\\t副詞,一般,*,*,*,*,要は,ヨウハ,ヨーワ\\n「\\t記号,括弧開,*,*,*,*,「,「,「\\nサプライズ\\t名詞,一般,*,*,*,*,*\\nを\\t助詞,格助詞,一般,*,*,*,を,ヲ,ヲ\\n楽しめる\\t動詞,自立,*,*,一段,基本形,楽しめる,タノシメル,タノシメル\\n」\\t記号,括弧閉,*,*,*,*,」,」,」\\nという\\t助詞,格助詞,連語,*,*,*,という,トイウ,トユウ\\nタイプ\\t名詞,一般,*,*,*,*,タイプ,タイプ,タイプ\\nの\\t助詞,連体化,*,*,*,*,の,ノ,ノ\\n人選\\t名詞,サ変接続,*,*,*,*,人選,ジンセン,ジンセン\\nが\\t助詞,格助詞,一般,*,*,*,が,ガ,ガ\\n大切\\t名詞,形容動詞語幹,*,*,*,*,大切,タイセツ,タイセツ\\nという\\t助詞,格助詞,連語,*,*,*,という,トイウ,トユウ\\nこと\\t名詞,非自立,一般,*,*,*,こと,コト,コト\\nか\\t助詞,副助詞／並立助詞／終助詞,*,*,*,*,か,カ,カ\\n。\\t記号,句点,*,*,*,*,。,。,。\\n一方\\t接続詞,*,*,*,*,*,一方,イッポウ,イッポー\\n「\\t記号,括弧開,*,*,*,*,「,「,「\\nあり\\t動詞,自立,*,*,五段・ラ行,連用形,ある,アリ,アリ\\nき\\t助動詞,*,*,*,文語・キ,基本形,き,キ,キ\\nたり\\t助詞,並立助詞,*,*,*,*,たり,タリ,タリ\\nじゃ\\t接続詞,*,*,*,*,*,じゃ,ジャ,ジャ\\nつまらない\\t形容詞,自立,*,*,形容詞・アウオ段,基本形,つまらない,ツマラナイ,ツマラナイ\\nし\\t助詞,接続助詞,*,*,*,*,し,シ,シ\\n、\\t記号,読点,*,*,*,*,、,、,、\\nネット\\t名詞,一般,*,*,*,*,ネット,ネット,ネット\\nで\\t助詞,格助詞,一般,*,*,*,で,デ,デ\\n例文\\t名詞,一般,*,*,*,*,例文,レイブン,レイブン\\nを\\t助詞,格助詞,一般,*,*,*,を,ヲ,ヲ\\n検索\\t名詞,サ変接続,*,*,*,*,検索,ケンサク,ケンサク\\nし\\t動詞,自立,*,*,サ変・スル,連用形,する,シ,シ\\nて\\t助詞,接続助詞,*,*,*,*,て,テ,テ\\nいる\\t動詞,非自立,*,*,一段,基本形,いる,イル,イル\\n際\\t名詞,非自立,副詞可能,*,*,*,際,サイ,サイ\\nに\\t助詞,格助詞,一般,*,*,*,に,ニ,ニ\\n『\\t記号,括弧開,*,*,*,*,『,『,『\\nこんな\\t連体詞,*,*,*,*,*,こんな,コンナ,コンナ\\n方法\\t名詞,一般,*,*,*,*,方法,ホウホウ,ホーホー\\nも\\t助詞,係助詞,*,*,*,*,も,モ,モ\\nある\\t動詞,自立,*,*,五段・ラ行,基本形,ある,アル,アル\\nの\\t名詞,非自立,一般,*,*,*,の,ノ,ノ\\nか\\t助詞,副助詞／並立助詞／終助詞,*,*,*,*,か,カ,カ\\n！\\t記号,一般,*,*,*,*,！,！,！\\n』\\t記号,括弧閉,*,*,*,*,』,』,』\\nって\\t助詞,格助詞,連語,*,*,*,って,ッテ,ッテ\\n思っ\\t動詞,自立,*,*,五段・ワ行促音便,連用タ接続,思う,オモッ,オモッ\\nて\\t助詞,接続助詞,*,*,*,*,て,テ,テ\\n取り入れ\\t動詞,自立,*,*,一段,連用形,取り入れる,トリイレ,トリイレ\\nまし\\t助動詞,*,*,*,特殊・マス,連用形,ます,マシ,マシ\\nた\\t助動詞,*,*,*,特殊・タ,基本形,た,タ,タ\\n」\\t記号,括弧閉,*,*,*,*,」,」,」\\nという\\t助詞,格助詞,連語,*,*,*,という,トイウ,トユウ\\n幸恵\\t名詞,固有名詞,人名,名,*,*,幸恵,ユキエ,ユキエ\\nさん\\t名詞,接尾,人名,*,*,*,さん,サン,サン\\n（\\t記号,括弧開,*,*,*,*,（,（,（\\n30\\t名詞,数,*,*,*,*,*\\n歳\\t名詞,接尾,助数詞,*,*,*,歳,サイ,サイ\\n）\\t記号,括弧閉,*,*,*,*,）,）,）\\nが\\t助詞,格助詞,一般,*,*,*,が,ガ,ガ\\n行っ\\t動詞,自立,*,*,五段・ワ行促音便,連用タ接続,行う,オコナッ,オコナッ\\nた\\t助動詞,*,*,*,特殊・タ,基本形,た,タ,タ\\nスピーチ\\t名詞,サ変接続,*,*,*,*,スピーチ,スピーチ,スピーチ\\nは\\t助詞,係助詞,*,*,*,*,は,ハ,ワ\\n「\\t記号,括弧開,*,*,*,*,「,「,「\\n手紙\\t名詞,一般,*,*,*,*,手紙,テガミ,テガミ\\n形式\\t名詞,一般,*,*,*,*,形式,ケイシキ,ケイシキ\\nの\\t助詞,連体化,*,*,*,*,の,ノ,ノ\\nスピーチ\\t名詞,サ変接続,*,*,*,*,スピーチ,スピーチ,スピーチ\\n」\\t記号,括弧閉,*,*,*,*,」,」,」\\nという\\t助詞,格助詞,連語,*,*,*,という,トイウ,トユウ\\nもの\\t名詞,非自立,一般,*,*,*,もの,モノ,モノ\\n。\\t記号,句点,*,*,*,*,。,。,。\\n「\\t記号,括弧開,*,*,*,*,「,「,「\\n○\\t記号,一般,*,*,*,*,○,○,○\\n○\\t記号,一般,*,*,*,*,○,○,○\\nちゃん\\t名詞,接尾,人名,*,*,*,ちゃん,チャン,チャン\\nへ\\t助詞,格助詞,一般,*,*,*,へ,ヘ,エ\\n\\u3000\\t記号,空白,*,*,*,*,\\u3000,\\u3000,\\u3000\\nみたい\\t名詞,非自立,形容動詞語幹,*,*,*,みたい,ミタイ,ミタイ\\nな\\t助動詞,*,*,*,特殊・ダ,体言接続,だ,ナ,ナ\\n感じ\\t名詞,一般,*,*,*,*,感じ,カンジ,カンジ\\nで\\t助詞,格助詞,一般,*,*,*,で,デ,デ\\n新婦\\t名詞,一般,*,*,*,*,新婦,シンプ,シンプ\\nの\\t助詞,連体化,*,*,*,*,の,ノ,ノ\\n友人\\t名詞,一般,*,*,*,*,友人,ユウジン,ユージン\\nに\\t助詞,格助詞,一般,*,*,*,に,ニ,ニ\\nお\\t接頭詞,名詞接続,*,*,*,*,お,オ,オ\\n手紙\\t名詞,一般,*,*,*,*,手紙,テガミ,テガミ\\nを\\t助詞,格助詞,一般,*,*,*,を,ヲ,ヲ\\n書い\\t動詞,自立,*,*,五段・カ行イ音便,連用タ接続,書く,カイ,カイ\\nて\\t助詞,接続助詞,*,*,*,*,て,テ,テ\\n読み上げる\\t動詞,自立,*,*,一段,基本形,読み上げる,ヨミアゲル,ヨミアゲル\\nやり方\\t名詞,一般,*,*,*,*,やり方,ヤリカタ,ヤリカタ\\nです\\t助動詞,*,*,*,特殊・デス,基本形,です,デス,デス\\n。\\t記号,句点,*,*,*,*,。,。,。\\nこれ\\t名詞,代名詞,一般,*,*,*,これ,コレ,コレ\\nなら\\t助動詞,*,*,*,特殊・ダ,仮定形,だ,ナラ,ナラ\\n多少\\t副詞,助詞類接続,*,*,*,*,多少,タショウ,タショー\\nフランク\\t名詞,形容動詞語幹,*,*,*,*,フランク,フランク,フランク\\nな\\t助動詞,*,*,*,特殊・ダ,体言接続,だ,ナ,ナ\\n書き方\\t名詞,一般,*,*,*,*,書き方,カキカタ,カキカタ\\nでも\\t助詞,副助詞,*,*,*,*,でも,デモ,デモ\\n大丈夫\\t名詞,形容動詞語幹,*,*,*,*,大丈夫,ダイジョウブ,ダイジョーブ\\nだ\\t助動詞,*,*,*,特殊・ダ,基本形,だ,ダ,ダ\\nし\\t助詞,接続助詞,*,*,*,*,し,シ,シ\\n、\\t記号,読点,*,*,*,*,、,、,、\\n何より\\t副詞,助詞類接続,*,*,*,*,何より,ナニヨリ,ナニヨリ\\n暗記\\t名詞,サ変接続,*,*,*,*,暗記,アンキ,アンキ\\nし\\t動詞,自立,*,*,サ変・スル,未然形,する,シ,シ\\nない\\t助動詞,*,*,*,特殊・ナイ,連用デ接続,ない,ナイ,ナイ\\nで\\t助詞,接続助詞,*,*,*,*,で,デ,デ\\n堂々\\t副詞,助詞類接続,*,*,*,*,堂々,ドウドウ,ドードー\\nと\\t助詞,副詞化,*,*,*,*,と,ト,ト\\n読み上げる\\t動詞,自立,*,*,一段,基本形,読み上げる,ヨミアゲル,ヨミアゲル\\nこと\\t名詞,非自立,一般,*,*,*,こと,コト,コト\\nが\\t助詞,格助詞,一般,*,*,*,が,ガ,ガ\\nでき\\t動詞,自立,*,*,一段,連用形,できる,デキ,デキ\\nます\\t助動詞,*,*,*,特殊・マス,基本形,ます,マス,マス\\nよ\\t助詞,終助詞,*,*,*,*,よ,ヨ,ヨ\\nね\\t助詞,終助詞,*,*,*,*,ね,ネ,ネ\\n。\\t記号,句点,*,*,*,*,。,。,。\\n読ん\\t動詞,自立,*,*,五段・マ行,連用タ接続,読む,ヨン,ヨン\\nだ\\t助動詞,*,*,*,特殊・タ,基本形,だ,ダ,ダ\\nもの\\t名詞,非自立,一般,*,*,*,もの,モノ,モノ\\nは\\t助詞,係助詞,*,*,*,*,は,ハ,ワ\\nそのまま\\t副詞,一般,*,*,*,*,そのまま,ソノママ,ソノママ\\n友人\\t名詞,一般,*,*,*,*,友人,ユウジン,ユージン\\nに\\t助詞,格助詞,一般,*,*,*,に,ニ,ニ\\nあげれ\\t動詞,自立,*,*,一段,仮定形,あげる,アゲレ,アゲレ\\nば\\t助詞,接続助詞,*,*,*,*,ば,バ,バ\\n一応\\t副詞,助詞類接続,*,*,*,*,一応,イチオウ,イチオー\\n記念\\t名詞,サ変接続,*,*,*,*,記念,キネン,キネン\\nに\\t助詞,格助詞,一般,*,*,*,に,ニ,ニ\\nも\\t助詞,係助詞,*,*,*,*,も,モ,モ\\nなり\\t動詞,自立,*,*,五段・ラ行,連用形,なる,ナリ,ナリ\\nます\\t助動詞,*,*,*,特殊・マス,基本形,ます,マス,マス\\n」\\t記号,括弧閉,*,*,*,*,」,」,」\\n（\\t記号,括弧開,*,*,*,*,（,（,（\\n幸恵\\t名詞,固有名詞,人名,名,*,*,幸恵,ユキエ,ユキエ\\nさん\\t名詞,接尾,人名,*,*,*,さん,サン,サン\\n）\\t記号,括弧閉,*,*,*,*,）,）,）\\nなるほど\\t感動詞,*,*,*,*,*,なるほど,ナルホド,ナルホド\\n、\\t記号,読点,*,*,*,*,、,、,、\\n確か\\t名詞,形容動詞語幹,*,*,*,*,確か,タシカ,タシカ\\nに\\t助詞,副詞化,*,*,*,*,に,ニ,ニ\\nこれ\\t名詞,代名詞,一般,*,*,*,これ,コレ,コレ\\nなら\\t助動詞,*,*,*,特殊・ダ,仮定形,だ,ナラ,ナラ\\n読み\\t動詞,自立,*,*,五段・マ行,連用形,読む,ヨミ,ヨミ\\nあげれ\\t動詞,非自立,*,*,一段,仮定形,あげる,アゲレ,アゲレ\\nば\\t助詞,接続助詞,*,*,*,*,ば,バ,バ\\nいい\\t形容詞,非自立,*,*,形容詞・イイ,基本形,いい,イイ,イイ\\nだけ\\t助詞,副助詞,*,*,*,*,だけ,ダケ,ダケ\\nな\\t助動詞,*,*,*,特殊・ダ,体言接続,だ,ナ,ナ\\nので\\t助詞,接続助詞,*,*,*,*,ので,ノデ,ノデ\\n、\\t記号,読点,*,*,*,*,、,、,、\\n人前\\t名詞,一般,*,*,*,*,人前,ヒトマエ,ヒトマエ\\nで\\t助詞,格助詞,一般,*,*,*,で,デ,デ\\n話す\\t動詞,自立,*,*,五段・サ行,基本形,話す,ハナス,ハナス\\nの\\t名詞,非自立,一般,*,*,*,の,ノ,ノ\\nが\\t助詞,格助詞,一般,*,*,*,が,ガ,ガ\\n苦手\\t名詞,形容動詞語幹,*,*,*,*,苦手,ニガテ,ニガテ\\nな\\t助動詞,*,*,*,特殊・ダ,体言接続,だ,ナ,ナ\\n人\\t名詞,一般,*,*,*,*,人,ヒト,ヒト\\nで\\t助詞,格助詞,一般,*,*,*,で,デ,デ\\nも\\t助詞,係助詞,*,*,*,*,も,モ,モ\\n失敗\\t名詞,サ変接続,*,*,*,*,失敗,シッパイ,シッパイ\\nし\\t動詞,自立,*,*,サ変・スル,未然形,する,シ,シ\\nない\\t助動詞,*,*,*,特殊・ナイ,基本形,ない,ナイ,ナイ\\nかも\\t助詞,副助詞,*,*,*,*,かも,カモ,カモ\\nしれ\\t動詞,自立,*,*,一段,未然形,しれる,シレ,シレ\\nない\\t助動詞,*,*,*,特殊・ナイ,基本形,ない,ナイ,ナイ\\n。\\t記号,句点,*,*,*,*,。,。,。\\n主役\\t名詞,一般,*,*,*,*,主役,シュヤク,シュヤク\\nは\\t助詞,係助詞,*,*,*,*,は,ハ,ワ\\nあくまで\\t副詞,助詞類接続,*,*,*,*,あくまで,アクマデ,アクマデ\\n新郎\\t名詞,一般,*,*,*,*,新郎,シンロウ,シンロー\\n新婦\\t名詞,一般,*,*,*,*,新婦,シンプ,シンプ\\nながら\\t助詞,接続助詞,*,*,*,*,ながら,ナガラ,ナガラ\\nも\\t助詞,係助詞,*,*,*,*,も,モ,モ\\n、\\t記号,読点,*,*,*,*,、,、,、\\nいざ\\t副詞,一般,*,*,*,*,いざ,イザ,イザ\\nと\\t助詞,格助詞,一般,*,*,*,と,ト,ト\\nなる\\t動詞,自立,*,*,五段・ラ行,基本形,なる,ナル,ナル\\nと\\t助詞,格助詞,引用,*,*,*,と,ト,ト\\n緊張\\t名詞,サ変接続,*,*,*,*,緊張,キンチョウ,キンチョー\\nし\\t動詞,自立,*,*,サ変・スル,連用形,する,シ,シ\\n、\\t記号,読点,*,*,*,*,、,、,、\\n内容\\t名詞,一般,*,*,*,*,内容,ナイヨウ,ナイヨー\\nも\\t助詞,係助詞,*,*,*,*,も,モ,モ\\nあれこれ\\t名詞,一般,*,*,*,*,あれこれ,アレコレ,アレコレ\\n考え\\t動詞,自立,*,*,一段,連用形,考える,カンガエ,カンガエ\\nて\\t助詞,接続助詞,*,*,*,*,て,テ,テ\\n、\\t記号,読点,*,*,*,*,、,、,、\\nこっそり\\t副詞,助詞類接続,*,*,*,*,こっそり,コッソリ,コッソリ\\nリハーサル\\t名詞,一般,*,*,*,*,リハーサル,リハーサル,リハーサル\\n…\\t記号,一般,*,*,*,*,…,…,…\\n…\\t記号,一般,*,*,*,*,…,…,…\\nそんな\\t連体詞,*,*,*,*,*,そんな,ソンナ,ソンナ\\n人知れず\\t副詞,一般,*,*,*,*,人知れず,ヒトシレズ,ヒトシレズ\\n頑張る\\t動詞,自立,*,*,五段・ラ行,基本形,頑張る,ガンバル,ガンバル\\nスピーチ\\t名詞,サ変接続,*,*,*,*,スピーチ,スピーチ,スピーチ\\n担当\\t名詞,サ変接続,*,*,*,*,担当,タントウ,タントー\\n独\\t名詞,固有名詞,地域,国,*,*,独,ドク,ドク\\n女\\t名詞,一般,*,*,*,*,女,オンナ,オンナ\\nたち\\t名詞,接尾,一般,*,*,*,たち,タチ,タチ\\nに\\t助詞,格助詞,一般,*,*,*,に,ニ,ニ\\nも\\t助詞,係助詞,*,*,*,*,も,モ,モ\\n幸\\t名詞,一般,*,*,*,*,幸,コウ,コー\\nあれ\\t助動詞,*,*,*,五段・ラ行アル,命令ｅ,ある,アレ,アレ\\n（\\t記号,括弧開,*,*,*,*,（,（,（\\n高山\\t名詞,固有名詞,人名,姓,*,*,高山,タカヤマ,タカヤマ\\n惠\\t名詞,固有名詞,人名,名,*,*,惠,メグミ,メグミ\\n）\\t記号,括弧閉,*,*,*,*,）,）,）\\nEOS\\n'"
            ]
          },
          "metadata": {},
          "execution_count": 9
        }
      ]
    },
    {
      "cell_type": "code",
      "source": [
        "def tokenize(text):\n",
        "  tokens = []\n",
        "  for line in m.parse(text).splitlines():\n",
        "    fields = line.split()\n",
        "    if len(fields) != 2: continue\n",
        "    subfields = fields[1].split(',')\n",
        "    if len(subfields) != 9: continue\n",
        "    if subfields[0] in ['記号', '助詞', '助動詞', '連体詞', '副詞']: continue\n",
        "    token = subfields[6]\n",
        "    if token == '*':\n",
        "      token = fields[0]\n",
        "    tokens.append(token)\n",
        "  return ' '.join(tokens)"
      ],
      "metadata": {
        "id": "sudfkedfUJ8a"
      },
      "execution_count": null,
      "outputs": []
    },
    {
      "cell_type": "code",
      "source": [
        "corpus = []\n",
        "for body in df.body:\n",
        "  corpus.append(tokenize(body))"
      ],
      "metadata": {
        "id": "xheSvKt4Ublh"
      },
      "execution_count": null,
      "outputs": []
    },
    {
      "cell_type": "markdown",
      "source": [
        "* 文書数は7,367件"
      ],
      "metadata": {
        "id": "w9HeSp2Gfbg3"
      }
    },
    {
      "cell_type": "code",
      "source": [
        "len(corpus)"
      ],
      "metadata": {
        "colab": {
          "base_uri": "https://localhost:8080/"
        },
        "id": "43HaBqAeXOIn",
        "outputId": "91c712f0-4cf5-4e42-8308-5c291fdb3346"
      },
      "execution_count": null,
      "outputs": [
        {
          "output_type": "execute_result",
          "data": {
            "text/plain": [
              "7367"
            ]
          },
          "metadata": {},
          "execution_count": 12
        }
      ]
    },
    {
      "cell_type": "code",
      "source": [
        "from sklearn.feature_extraction.text import CountVectorizer\n",
        "\n",
        "vectorizer = CountVectorizer(min_df=20, max_df=0.2)\n",
        "X = vectorizer.fit_transform(corpus)\n",
        "vocab = vectorizer.get_feature_names_out()"
      ],
      "metadata": {
        "id": "A_KJI4Ada7Jm"
      },
      "execution_count": null,
      "outputs": []
    },
    {
      "cell_type": "code",
      "source": [
        "len(vocab)"
      ],
      "metadata": {
        "colab": {
          "base_uri": "https://localhost:8080/"
        },
        "id": "s1egTMz3bH1W",
        "outputId": "ae698ea9-e261-48c9-b8a3-3a53b93e19fc"
      },
      "execution_count": null,
      "outputs": [
        {
          "output_type": "execute_result",
          "data": {
            "text/plain": [
              "6682"
            ]
          },
          "metadata": {},
          "execution_count": 14
        }
      ]
    },
    {
      "cell_type": "markdown",
      "source": [
        "## PLSIのミニバッチ学習\n",
        "* PyTorchで実装する。"
      ],
      "metadata": {
        "id": "O8YmbMgrkZAX"
      }
    },
    {
      "cell_type": "code",
      "source": [
        "import torch"
      ],
      "metadata": {
        "id": "HcHWwpCKbPCd"
      },
      "execution_count": null,
      "outputs": []
    },
    {
      "cell_type": "code",
      "source": [
        "word_freqs = torch.from_numpy(X.toarray()).type(torch.float32)"
      ],
      "metadata": {
        "id": "TQGR_SGHfhch"
      },
      "execution_count": null,
      "outputs": []
    },
    {
      "cell_type": "code",
      "source": [
        "n_components = 20\n",
        "theta = torch.randn(len(corpus), n_components, requires_grad=True)\n",
        "phi = torch.randn(n_components, len(vocab), requires_grad=True)"
      ],
      "metadata": {
        "id": "ZczCVnkzb8Lk"
      },
      "execution_count": null,
      "outputs": []
    },
    {
      "cell_type": "code",
      "source": [
        "optimizer = torch.optim.Adam([theta, phi], lr=1.0)"
      ],
      "metadata": {
        "id": "1JAaR2SzhUgB"
      },
      "execution_count": null,
      "outputs": []
    },
    {
      "cell_type": "code",
      "source": [
        "for epoch in range(100):\n",
        "  normalized_theta = torch.nn.functional.softmax(theta, dim=1)\n",
        "  normalized_phi = torch.nn.functional.softmax(phi, dim=1)\n",
        "  word_probs = normalized_theta @ normalized_phi\n",
        "\n",
        "  loss = - (word_freqs * word_probs.log()).sum()\n",
        "  loss.backward()\n",
        "  optimizer.step()\n",
        "  optimizer.zero_grad()\n",
        "\n",
        "  print(f'epoch {epoch} | loss {loss}')"
      ],
      "metadata": {
        "colab": {
          "base_uri": "https://localhost:8080/"
        },
        "id": "EawUV-Tmcx26",
        "outputId": "e853f12c-e304-4493-f318-d43191d4b4ff"
      },
      "execution_count": null,
      "outputs": [
        {
          "output_type": "stream",
          "name": "stdout",
          "text": [
            "epoch 0 | loss 10158444.0\n",
            "epoch 1 | loss 9465356.0\n",
            "epoch 2 | loss 9256895.0\n",
            "epoch 3 | loss 9259055.0\n",
            "epoch 4 | loss 9241736.0\n",
            "epoch 5 | loss 9139079.0\n",
            "epoch 6 | loss 9001437.0\n",
            "epoch 7 | loss 8886162.0\n",
            "epoch 8 | loss 8803339.0\n",
            "epoch 9 | loss 8740564.0\n",
            "epoch 10 | loss 8687714.0\n",
            "epoch 11 | loss 8645815.0\n",
            "epoch 12 | loss 8613696.0\n",
            "epoch 13 | loss 8587228.0\n",
            "epoch 14 | loss 8565194.0\n",
            "epoch 15 | loss 8546052.0\n",
            "epoch 16 | loss 8528226.0\n",
            "epoch 17 | loss 8512706.0\n",
            "epoch 18 | loss 8498872.0\n",
            "epoch 19 | loss 8486700.0\n",
            "epoch 20 | loss 8475234.0\n",
            "epoch 21 | loss 8465093.0\n",
            "epoch 22 | loss 8456704.0\n",
            "epoch 23 | loss 8448814.0\n",
            "epoch 24 | loss 8441327.0\n",
            "epoch 25 | loss 8434526.0\n",
            "epoch 26 | loss 8428213.0\n",
            "epoch 27 | loss 8422241.0\n",
            "epoch 28 | loss 8416494.0\n",
            "epoch 29 | loss 8411151.0\n",
            "epoch 30 | loss 8406438.0\n",
            "epoch 31 | loss 8402220.0\n",
            "epoch 32 | loss 8398347.0\n",
            "epoch 33 | loss 8394302.0\n",
            "epoch 34 | loss 8390449.0\n",
            "epoch 35 | loss 8386993.0\n",
            "epoch 36 | loss 8383840.5\n",
            "epoch 37 | loss 8381025.0\n",
            "epoch 38 | loss 8378472.0\n",
            "epoch 39 | loss 8376053.0\n",
            "epoch 40 | loss 8373760.0\n",
            "epoch 41 | loss 8371536.0\n",
            "epoch 42 | loss 8369414.0\n",
            "epoch 43 | loss 8367414.0\n",
            "epoch 44 | loss 8365544.0\n",
            "epoch 45 | loss 8363805.0\n",
            "epoch 46 | loss 8362130.0\n",
            "epoch 47 | loss 8360592.0\n",
            "epoch 48 | loss 8358947.0\n",
            "epoch 49 | loss 8357572.0\n",
            "epoch 50 | loss 8356369.5\n",
            "epoch 51 | loss 8355272.0\n",
            "epoch 52 | loss 8354123.5\n",
            "epoch 53 | loss 8352850.5\n",
            "epoch 54 | loss 8351807.5\n",
            "epoch 55 | loss 8350789.5\n",
            "epoch 56 | loss 8349780.5\n",
            "epoch 57 | loss 8348888.0\n",
            "epoch 58 | loss 8347925.0\n",
            "epoch 59 | loss 8347032.5\n",
            "epoch 60 | loss 8346185.0\n",
            "epoch 61 | loss 8345436.0\n",
            "epoch 62 | loss 8344796.0\n",
            "epoch 63 | loss 8344120.5\n",
            "epoch 64 | loss 8343354.0\n",
            "epoch 65 | loss 8342727.0\n",
            "epoch 66 | loss 8342005.0\n",
            "epoch 67 | loss 8341414.0\n",
            "epoch 68 | loss 8340813.0\n",
            "epoch 69 | loss 8340204.0\n",
            "epoch 70 | loss 8339597.0\n",
            "epoch 71 | loss 8339038.5\n",
            "epoch 72 | loss 8338430.0\n",
            "epoch 73 | loss 8337923.0\n",
            "epoch 74 | loss 8337363.0\n",
            "epoch 75 | loss 8336737.0\n",
            "epoch 76 | loss 8336269.5\n",
            "epoch 77 | loss 8335909.0\n",
            "epoch 78 | loss 8335353.5\n",
            "epoch 79 | loss 8334893.0\n",
            "epoch 80 | loss 8334421.0\n",
            "epoch 81 | loss 8334038.5\n",
            "epoch 82 | loss 8333667.5\n",
            "epoch 83 | loss 8333231.0\n",
            "epoch 84 | loss 8332650.5\n",
            "epoch 85 | loss 8332253.5\n",
            "epoch 86 | loss 8332065.0\n",
            "epoch 87 | loss 8331455.5\n",
            "epoch 88 | loss 8331040.0\n",
            "epoch 89 | loss 8330698.0\n",
            "epoch 90 | loss 8330334.0\n",
            "epoch 91 | loss 8330016.5\n",
            "epoch 92 | loss 8329676.5\n",
            "epoch 93 | loss 8329324.0\n",
            "epoch 94 | loss 8329020.5\n",
            "epoch 95 | loss 8328646.0\n",
            "epoch 96 | loss 8328276.5\n",
            "epoch 97 | loss 8327979.0\n",
            "epoch 98 | loss 8327587.5\n",
            "epoch 99 | loss 8327228.0\n"
          ]
        }
      ]
    },
    {
      "cell_type": "markdown",
      "source": [
        "## トピック語の確認"
      ],
      "metadata": {
        "id": "qp31AlkIkbiy"
      }
    },
    {
      "cell_type": "code",
      "source": [
        "n_topic_words = 30\n",
        "for k in range(n_components):\n",
        "  print(' '.join([vocab[idx] for idx in torch.argsort(phi[k], descending=True)[:n_topic_words]]))"
      ],
      "metadata": {
        "colab": {
          "base_uri": "https://localhost:8080/"
        },
        "id": "K-VFYkfJc9SS",
        "outputId": "24f41660-91d2-4032-e5d8-7f238004db3c"
      },
      "execution_count": null,
      "outputs": [
        {
          "output_type": "stream",
          "name": "stdout",
          "text": [
            "応募 当選 キャンペーン プレゼント くださる いただく 場合 賞品 発送 期間 連絡 了承 いたす 抽選 事項 購入 終了 予定 方法 注意 弊社 住所 セット 必要 内容 実施 試写 招待 参加 個人\n",
            "更新 ソフトウェア 場合 くださる 利用 ダウンロード アップデート 設定 データ 表示 実施 電話 操作 端末 本体 必要 以下 手順 とき 電池 お客様 通信 ドコモ 注意 状態 方法 接続 いただく 画面 起動\n",
            "東京 開催 写真 イベント 参加 自転車 デザイン 公式 楽しむ ファッション 開始 場所 配信 展示 行く 予定 女子 ツリー 会場 企画 体験 テーマ ホテル 走る 今年 楽しい 感じる 好き そして 実施\n",
            "画面 表示 設定 機能 入力 ファイル 利用 便利 登録 クリック タップ 知る 起動 ページ データ 検索 選択 得る 場合 方法 文字 操作 簡単 無料 編集 ニュース チェック ユーザー インストール ダウンロード\n",
            "写真 撮影 カメラ ビデオ 撮る 映像 動画 チェック 作品 ネット 編集 画像 売れ筋 レンズ 音楽 とき デジタル ソニー ムービー 節電 使用 映画 理由 作る ロゴ 簡単 電気 挑戦 知る 利用\n",
            "仕事 転職 会社 やる 考える あなた 求人 経験 年収 聞く 営業 悩み 社員 働く でも 感じる 良い 行く 採用 必要 活動 面白い とき 違う 判断 すごい しれる 探す 分かる ビール\n",
            "映画 公開 作品 監督 演じる 映像 主演 特集 描く 全国 観る アクション シーン そして 劇場 シリーズ 決定 ドラマ 女優 ファン 注目 公式 物語 アメリカ 主人公 出演 ストーリー 舞台 原作 記録\n",
            "ネット 韓国 掲示板 批判 ニュース 発言 ユーザー コメント 寄せる 社長 番組 受ける 意見 問題 報じる 報道 放送 一方 ファン 内容 相次ぐ やる ちゃん よる 出る 事件 掲載 自身 写真 メディア\n",
            "スマート フォン ドコモ モデル 搭載 対応 機能 機種 カメラ 予定 向け 本体 インチ ディスプレイ 開始 サイズ 画素 防水 開発 サービス 端末 リンク コア 最大 執筆 画面 動画 連続 タブレット 撮影\n",
            "ドラマ 好き 彼女 映画 女子 クリスマス すごい 作品 観る 演じる 男性 行く 子供 シーン 描く 大人 良い 食べる 家族 感じる ちゃん シーズン 聞く 番組 サッカー そして 語る 気持ち でも 魅力\n",
            "ソフトバンク 対応 利用 サービス 通信 モバイル 製品 スマート 容量 最大 フォン カード 搭載 バッテリー ユーザー 購入 接続 端末 無線 開始 募集 レビュー 速度 海外 向け 価格 高速 料金 場合 使用\n",
            "韓国 とき ケア 効果 美容 やすい 男性 チェック 原因 つける ダイエット 成分 美しい 化粧 クリーム 健康 入る 出る 方法 食べる アイテム 最近 入れる 毎日 聞く メイク 高い 状態 見える 身体\n",
            "機能 製品 テレビ 充電 対応 搭載 シリーズ 価格 バッテリー 液晶 スマート 使用 ケース パソコン 接続 本体 タブレット フォン 録画 サイズ ケーブル 電源 電力 高い 利用 キーボード デジタル 電子 採用 使える\n",
            "相手 男性 恋愛 結婚 好き 関係 仕事 気持ち 友達 メール しれる 彼女 聞く あなた 占い 良い 電話 考える 感じる もらう 場合 でも 相談 出会い とき 言葉 彼氏 話す 幸せ 一緒\n",
            "番組 映画 放送 出演 視聴 イベント ファン ネット 代表 テレビ 監督 フジテレビ アイドル やる 語る ドラマ 会議 チーム 開催 メンバー 公式 試合 コメント 決定 選手 公開 加藤 掲示板 マリリン アナ\n",
            "料理 食べる 女子 アイテム 作る 野菜 香り ブランド 楽しむ ファッション 飲む 入れる 入る 限定 東京 楽しめる カラー かわいい 写真 クリスマス 良い 美味しい 商品 銀座 デザイン おいしい そして 素材 種類 プレゼント\n",
            "販売 企業 商品 提供 事業 株式会社 公開 市場 開発 ビデオ 製品 注目 ビジネス サービス 現在 考える 予定 結果 そして 限定 ペット 今後 海外 購入 展開 コンテンツ ブランド 選ぶ 価格 調査\n",
            "選手 ゴルフ 代表 試合 五輪 サッカー 語る プロ 女子 スポーツ 野球 監督 チーム やる クラブ コメント 大会 放送 出場 番組 ロンドン 出る ボール 写真 なでしこ 優勝 練習 ゴルファー プレー リーグ\n",
            "ゲーム スマート 機能 フォン デジタル ユーザー サービス 向け 提供 携帯 音声 現在 機器 認識 購入 電子 書籍 開発 皆さん 端末 電話 チェック 使える 問題 価格 販売 無料 難しい 必要 ソフト\n",
            "結婚 男性 女子 行く 聞く 仕事 生活 やる 考える とき でも 好き しれる 感じる 子供 独身 時代 話す 恋愛 彼女 お金 友人 わかる しかし 語る ちゃう 会社 知る 出る 相手\n"
          ]
        }
      ]
    },
    {
      "cell_type": "markdown",
      "source": [
        "# 課題\n",
        "* このバッチ最適化によるパラメータ推定を、ミニバッチ最適化に書き換えてみよう。\n",
        " * 同じ方法でlossを計算して比較することで、よりlossを小さくできるか、確認してみる。\n",
        "* もしくは、授業で説明したEMアルゴリズムによる推定を実装し、今回のバッチ最適化と性能比較してみよう。"
      ],
      "metadata": {
        "id": "YLZxWSQrUORp"
      }
    },
    {
      "cell_type": "code",
      "source": [
        ""
      ],
      "metadata": {
        "id": "MCPWcSMNgWTs"
      },
      "execution_count": null,
      "outputs": []
    }
  ]
}